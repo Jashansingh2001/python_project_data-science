{
 "cells": [
  {
   "cell_type": "markdown",
   "id": "d1434edf",
   "metadata": {},
   "source": [
    "# PROJECT ON DATA SCIENCE - INDIAN MEDALS WON IN CWG 2022"
   ]
  },
  {
   "cell_type": "markdown",
   "id": "7973dd05",
   "metadata": {},
   "source": [
    "In 2022 common wealth games india shows premier showdown and won many medals make India proud. This data set how many medals get by indian athelets. Analysis of gold, silver and bronze"
   ]
  },
  {
   "cell_type": "code",
   "execution_count": 5,
   "id": "5e46fbc1",
   "metadata": {},
   "outputs": [
    {
     "data": {
      "text/plain": [
       "'C:\\\\Users\\\\HP'"
      ]
     },
     "execution_count": 5,
     "metadata": {},
     "output_type": "execute_result"
    }
   ],
   "source": [
    "pwd\n"
   ]
  },
  {
   "cell_type": "code",
   "execution_count": 20,
   "id": "8d76aff7",
   "metadata": {},
   "outputs": [
    {
     "data": {
      "text/html": [
       "<div>\n",
       "<style scoped>\n",
       "    .dataframe tbody tr th:only-of-type {\n",
       "        vertical-align: middle;\n",
       "    }\n",
       "\n",
       "    .dataframe tbody tr th {\n",
       "        vertical-align: top;\n",
       "    }\n",
       "\n",
       "    .dataframe thead th {\n",
       "        text-align: right;\n",
       "    }\n",
       "</style>\n",
       "<table border=\"1\" class=\"dataframe\">\n",
       "  <thead>\n",
       "    <tr style=\"text-align: right;\">\n",
       "      <th></th>\n",
       "      <th>Unnamed: 0</th>\n",
       "      <th>Date of Medal Won</th>\n",
       "      <th>Athlete</th>\n",
       "      <th>Medal</th>\n",
       "      <th>Event</th>\n",
       "      <th>Sport</th>\n",
       "    </tr>\n",
       "  </thead>\n",
       "  <tbody>\n",
       "    <tr>\n",
       "      <th>0</th>\n",
       "      <td>1</td>\n",
       "      <td>30-Jul</td>\n",
       "      <td>Sanket Sargar</td>\n",
       "      <td>Silver</td>\n",
       "      <td>Men's 55kg</td>\n",
       "      <td>Weightlifting</td>\n",
       "    </tr>\n",
       "    <tr>\n",
       "      <th>1</th>\n",
       "      <td>2</td>\n",
       "      <td>30-Jul</td>\n",
       "      <td>Gururaja Poojary</td>\n",
       "      <td>Bronze</td>\n",
       "      <td>Men's 61kg</td>\n",
       "      <td>Weightlifting</td>\n",
       "    </tr>\n",
       "    <tr>\n",
       "      <th>2</th>\n",
       "      <td>3</td>\n",
       "      <td>30-Jul</td>\n",
       "      <td>Mirabai Chanbu</td>\n",
       "      <td>Gold</td>\n",
       "      <td>Women's 49kg</td>\n",
       "      <td>Weightlifting</td>\n",
       "    </tr>\n",
       "    <tr>\n",
       "      <th>3</th>\n",
       "      <td>4</td>\n",
       "      <td>30-Jul</td>\n",
       "      <td>Bindyarani Devi</td>\n",
       "      <td>Silver</td>\n",
       "      <td>Women's 55kg</td>\n",
       "      <td>Weightlifting</td>\n",
       "    </tr>\n",
       "    <tr>\n",
       "      <th>4</th>\n",
       "      <td>5</td>\n",
       "      <td>31-Jul</td>\n",
       "      <td>Jeremy Lalrinnunga</td>\n",
       "      <td>Gold</td>\n",
       "      <td>Men's 67kg</td>\n",
       "      <td>Weightlifting</td>\n",
       "    </tr>\n",
       "    <tr>\n",
       "      <th>...</th>\n",
       "      <td>...</td>\n",
       "      <td>...</td>\n",
       "      <td>...</td>\n",
       "      <td>...</td>\n",
       "      <td>...</td>\n",
       "      <td>...</td>\n",
       "    </tr>\n",
       "    <tr>\n",
       "      <th>56</th>\n",
       "      <td>57</td>\n",
       "      <td>8-Aug</td>\n",
       "      <td>Lakshya Sen</td>\n",
       "      <td>Gold</td>\n",
       "      <td>Men's singles</td>\n",
       "      <td>Badminton</td>\n",
       "    </tr>\n",
       "    <tr>\n",
       "      <th>57</th>\n",
       "      <td>58</td>\n",
       "      <td>8-Aug</td>\n",
       "      <td>Sathiyan Gnanasekaran</td>\n",
       "      <td>Bronze</td>\n",
       "      <td>Men's singles</td>\n",
       "      <td>Table Tennis</td>\n",
       "    </tr>\n",
       "    <tr>\n",
       "      <th>58</th>\n",
       "      <td>59</td>\n",
       "      <td>8-Aug</td>\n",
       "      <td>Satwiksairaj Rankireddy / Chirag Shetty</td>\n",
       "      <td>Gold</td>\n",
       "      <td>Men's doubles</td>\n",
       "      <td>Badminton</td>\n",
       "    </tr>\n",
       "    <tr>\n",
       "      <th>59</th>\n",
       "      <td>60</td>\n",
       "      <td>8-Aug</td>\n",
       "      <td>Sharath Kamal</td>\n",
       "      <td>Gold</td>\n",
       "      <td>Men's singles</td>\n",
       "      <td>Table Tennis</td>\n",
       "    </tr>\n",
       "    <tr>\n",
       "      <th>60</th>\n",
       "      <td>61</td>\n",
       "      <td>8-Aug</td>\n",
       "      <td>Men's hockey team</td>\n",
       "      <td>Silver</td>\n",
       "      <td>Men's hockey</td>\n",
       "      <td>Hockey</td>\n",
       "    </tr>\n",
       "  </tbody>\n",
       "</table>\n",
       "<p>61 rows × 6 columns</p>\n",
       "</div>"
      ],
      "text/plain": [
       "    Unnamed: 0 Date of Medal Won                                  Athlete  \\\n",
       "0            1            30-Jul                            Sanket Sargar   \n",
       "1            2            30-Jul                         Gururaja Poojary   \n",
       "2            3            30-Jul                           Mirabai Chanbu   \n",
       "3            4            30-Jul                          Bindyarani Devi   \n",
       "4            5            31-Jul                       Jeremy Lalrinnunga   \n",
       "..         ...               ...                                      ...   \n",
       "56          57             8-Aug                              Lakshya Sen   \n",
       "57          58             8-Aug                    Sathiyan Gnanasekaran   \n",
       "58          59             8-Aug  Satwiksairaj Rankireddy / Chirag Shetty   \n",
       "59          60             8-Aug                            Sharath Kamal   \n",
       "60          61             8-Aug                        Men's hockey team   \n",
       "\n",
       "     Medal          Event          Sport  \n",
       "0   Silver     Men's 55kg  Weightlifting  \n",
       "1   Bronze     Men's 61kg  Weightlifting  \n",
       "2     Gold   Women's 49kg  Weightlifting  \n",
       "3   Silver   Women's 55kg  Weightlifting  \n",
       "4     Gold     Men's 67kg  Weightlifting  \n",
       "..     ...            ...            ...  \n",
       "56    Gold  Men's singles      Badminton  \n",
       "57  Bronze  Men's singles   Table Tennis  \n",
       "58    Gold  Men's doubles      Badminton  \n",
       "59    Gold  Men's singles   Table Tennis  \n",
       "60  Silver   Men's hockey         Hockey  \n",
       "\n",
       "[61 rows x 6 columns]"
      ]
     },
     "execution_count": 20,
     "metadata": {},
     "output_type": "execute_result"
    }
   ],
   "source": [
    "from matplotlib import pyplot as plt\n",
    "import pandas as pd\n",
    "CWG = pd.read_csv('Indian Medal Winners CWG 2022.csv')\n",
    "CWG"
   ]
  },
  {
   "cell_type": "code",
   "execution_count": 66,
   "id": "c5d1546c",
   "metadata": {},
   "outputs": [
    {
     "data": {
      "text/plain": [
       "RangeIndex(start=0, stop=61, step=1)"
      ]
     },
     "execution_count": 66,
     "metadata": {},
     "output_type": "execute_result"
    }
   ],
   "source": [
    "CWG.index"
   ]
  },
  {
   "cell_type": "markdown",
   "id": "3c0d4a04",
   "metadata": {},
   "source": [
    "# .columns"
   ]
  },
  {
   "cell_type": "code",
   "execution_count": 65,
   "id": "84f9ec20",
   "metadata": {},
   "outputs": [
    {
     "data": {
      "text/plain": [
       "Index(['Unnamed: 0', 'Date of Medal Won', 'Athlete', 'Medal', 'Event',\n",
       "       'Sport'],\n",
       "      dtype='object')"
      ]
     },
     "execution_count": 65,
     "metadata": {},
     "output_type": "execute_result"
    }
   ],
   "source": [
    "CWG.columns #shows columns index"
   ]
  },
  {
   "cell_type": "markdown",
   "id": "bda93c0f",
   "metadata": {},
   "source": [
    "# .shape"
   ]
  },
  {
   "cell_type": "code",
   "execution_count": 26,
   "id": "969163dc",
   "metadata": {},
   "outputs": [
    {
     "data": {
      "text/plain": [
       "(61, 6)"
      ]
     },
     "execution_count": 26,
     "metadata": {},
     "output_type": "execute_result"
    }
   ],
   "source": [
    "CWG.shape # displays number of rows and columns"
   ]
  },
  {
   "cell_type": "markdown",
   "id": "402cbc9d",
   "metadata": {},
   "source": [
    "# .head()"
   ]
  },
  {
   "cell_type": "code",
   "execution_count": 21,
   "id": "f24d040e",
   "metadata": {},
   "outputs": [
    {
     "data": {
      "text/html": [
       "<div>\n",
       "<style scoped>\n",
       "    .dataframe tbody tr th:only-of-type {\n",
       "        vertical-align: middle;\n",
       "    }\n",
       "\n",
       "    .dataframe tbody tr th {\n",
       "        vertical-align: top;\n",
       "    }\n",
       "\n",
       "    .dataframe thead th {\n",
       "        text-align: right;\n",
       "    }\n",
       "</style>\n",
       "<table border=\"1\" class=\"dataframe\">\n",
       "  <thead>\n",
       "    <tr style=\"text-align: right;\">\n",
       "      <th></th>\n",
       "      <th>Unnamed: 0</th>\n",
       "      <th>Date of Medal Won</th>\n",
       "      <th>Athlete</th>\n",
       "      <th>Medal</th>\n",
       "      <th>Event</th>\n",
       "      <th>Sport</th>\n",
       "    </tr>\n",
       "  </thead>\n",
       "  <tbody>\n",
       "    <tr>\n",
       "      <th>0</th>\n",
       "      <td>1</td>\n",
       "      <td>30-Jul</td>\n",
       "      <td>Sanket Sargar</td>\n",
       "      <td>Silver</td>\n",
       "      <td>Men's 55kg</td>\n",
       "      <td>Weightlifting</td>\n",
       "    </tr>\n",
       "    <tr>\n",
       "      <th>1</th>\n",
       "      <td>2</td>\n",
       "      <td>30-Jul</td>\n",
       "      <td>Gururaja Poojary</td>\n",
       "      <td>Bronze</td>\n",
       "      <td>Men's 61kg</td>\n",
       "      <td>Weightlifting</td>\n",
       "    </tr>\n",
       "    <tr>\n",
       "      <th>2</th>\n",
       "      <td>3</td>\n",
       "      <td>30-Jul</td>\n",
       "      <td>Mirabai Chanbu</td>\n",
       "      <td>Gold</td>\n",
       "      <td>Women's 49kg</td>\n",
       "      <td>Weightlifting</td>\n",
       "    </tr>\n",
       "    <tr>\n",
       "      <th>3</th>\n",
       "      <td>4</td>\n",
       "      <td>30-Jul</td>\n",
       "      <td>Bindyarani Devi</td>\n",
       "      <td>Silver</td>\n",
       "      <td>Women's 55kg</td>\n",
       "      <td>Weightlifting</td>\n",
       "    </tr>\n",
       "    <tr>\n",
       "      <th>4</th>\n",
       "      <td>5</td>\n",
       "      <td>31-Jul</td>\n",
       "      <td>Jeremy Lalrinnunga</td>\n",
       "      <td>Gold</td>\n",
       "      <td>Men's 67kg</td>\n",
       "      <td>Weightlifting</td>\n",
       "    </tr>\n",
       "  </tbody>\n",
       "</table>\n",
       "</div>"
      ],
      "text/plain": [
       "   Unnamed: 0 Date of Medal Won             Athlete   Medal         Event  \\\n",
       "0           1            30-Jul       Sanket Sargar  Silver    Men's 55kg   \n",
       "1           2            30-Jul    Gururaja Poojary  Bronze    Men's 61kg   \n",
       "2           3            30-Jul      Mirabai Chanbu    Gold  Women's 49kg   \n",
       "3           4            30-Jul     Bindyarani Devi  Silver  Women's 55kg   \n",
       "4           5            31-Jul  Jeremy Lalrinnunga    Gold    Men's 67kg   \n",
       "\n",
       "           Sport  \n",
       "0  Weightlifting  \n",
       "1  Weightlifting  \n",
       "2  Weightlifting  \n",
       "3  Weightlifting  \n",
       "4  Weightlifting  "
      ]
     },
     "execution_count": 21,
     "metadata": {},
     "output_type": "execute_result"
    }
   ],
   "source": [
    "CWG.head() #by default show first 5 rows"
   ]
  },
  {
   "cell_type": "code",
   "execution_count": 22,
   "id": "16843f24",
   "metadata": {},
   "outputs": [
    {
     "data": {
      "text/html": [
       "<div>\n",
       "<style scoped>\n",
       "    .dataframe tbody tr th:only-of-type {\n",
       "        vertical-align: middle;\n",
       "    }\n",
       "\n",
       "    .dataframe tbody tr th {\n",
       "        vertical-align: top;\n",
       "    }\n",
       "\n",
       "    .dataframe thead th {\n",
       "        text-align: right;\n",
       "    }\n",
       "</style>\n",
       "<table border=\"1\" class=\"dataframe\">\n",
       "  <thead>\n",
       "    <tr style=\"text-align: right;\">\n",
       "      <th></th>\n",
       "      <th>Unnamed: 0</th>\n",
       "      <th>Date of Medal Won</th>\n",
       "      <th>Athlete</th>\n",
       "      <th>Medal</th>\n",
       "      <th>Event</th>\n",
       "      <th>Sport</th>\n",
       "    </tr>\n",
       "  </thead>\n",
       "  <tbody>\n",
       "    <tr>\n",
       "      <th>0</th>\n",
       "      <td>1</td>\n",
       "      <td>30-Jul</td>\n",
       "      <td>Sanket Sargar</td>\n",
       "      <td>Silver</td>\n",
       "      <td>Men's 55kg</td>\n",
       "      <td>Weightlifting</td>\n",
       "    </tr>\n",
       "    <tr>\n",
       "      <th>1</th>\n",
       "      <td>2</td>\n",
       "      <td>30-Jul</td>\n",
       "      <td>Gururaja Poojary</td>\n",
       "      <td>Bronze</td>\n",
       "      <td>Men's 61kg</td>\n",
       "      <td>Weightlifting</td>\n",
       "    </tr>\n",
       "    <tr>\n",
       "      <th>2</th>\n",
       "      <td>3</td>\n",
       "      <td>30-Jul</td>\n",
       "      <td>Mirabai Chanbu</td>\n",
       "      <td>Gold</td>\n",
       "      <td>Women's 49kg</td>\n",
       "      <td>Weightlifting</td>\n",
       "    </tr>\n",
       "    <tr>\n",
       "      <th>3</th>\n",
       "      <td>4</td>\n",
       "      <td>30-Jul</td>\n",
       "      <td>Bindyarani Devi</td>\n",
       "      <td>Silver</td>\n",
       "      <td>Women's 55kg</td>\n",
       "      <td>Weightlifting</td>\n",
       "    </tr>\n",
       "    <tr>\n",
       "      <th>4</th>\n",
       "      <td>5</td>\n",
       "      <td>31-Jul</td>\n",
       "      <td>Jeremy Lalrinnunga</td>\n",
       "      <td>Gold</td>\n",
       "      <td>Men's 67kg</td>\n",
       "      <td>Weightlifting</td>\n",
       "    </tr>\n",
       "    <tr>\n",
       "      <th>5</th>\n",
       "      <td>6</td>\n",
       "      <td>31-Jul</td>\n",
       "      <td>Achinta Sheuli</td>\n",
       "      <td>Gold</td>\n",
       "      <td>Men's 73kg</td>\n",
       "      <td>Weightlifting</td>\n",
       "    </tr>\n",
       "    <tr>\n",
       "      <th>6</th>\n",
       "      <td>7</td>\n",
       "      <td>1-Aug</td>\n",
       "      <td>Sushila Devi Likmabam</td>\n",
       "      <td>Silver</td>\n",
       "      <td>Women's 48kg</td>\n",
       "      <td>Judo</td>\n",
       "    </tr>\n",
       "    <tr>\n",
       "      <th>7</th>\n",
       "      <td>8</td>\n",
       "      <td>1-Aug</td>\n",
       "      <td>Vijay Kumar Yadav</td>\n",
       "      <td>Bronze</td>\n",
       "      <td>Men's 60kg</td>\n",
       "      <td>Judo</td>\n",
       "    </tr>\n",
       "    <tr>\n",
       "      <th>8</th>\n",
       "      <td>9</td>\n",
       "      <td>1-Aug</td>\n",
       "      <td>Harjinder Kaur</td>\n",
       "      <td>Bronze</td>\n",
       "      <td>Women's 71kg</td>\n",
       "      <td>Weightlifting</td>\n",
       "    </tr>\n",
       "    <tr>\n",
       "      <th>9</th>\n",
       "      <td>10</td>\n",
       "      <td>2-Aug</td>\n",
       "      <td>Indian women's team</td>\n",
       "      <td>Gold</td>\n",
       "      <td>Women's fours</td>\n",
       "      <td>Lawn bowls</td>\n",
       "    </tr>\n",
       "  </tbody>\n",
       "</table>\n",
       "</div>"
      ],
      "text/plain": [
       "   Unnamed: 0 Date of Medal Won                Athlete   Medal          Event  \\\n",
       "0           1            30-Jul          Sanket Sargar  Silver     Men's 55kg   \n",
       "1           2            30-Jul       Gururaja Poojary  Bronze     Men's 61kg   \n",
       "2           3            30-Jul         Mirabai Chanbu    Gold   Women's 49kg   \n",
       "3           4            30-Jul        Bindyarani Devi  Silver   Women's 55kg   \n",
       "4           5            31-Jul     Jeremy Lalrinnunga    Gold     Men's 67kg   \n",
       "5           6            31-Jul         Achinta Sheuli    Gold     Men's 73kg   \n",
       "6           7             1-Aug  Sushila Devi Likmabam  Silver   Women's 48kg   \n",
       "7           8             1-Aug      Vijay Kumar Yadav  Bronze     Men's 60kg   \n",
       "8           9             1-Aug         Harjinder Kaur  Bronze   Women's 71kg   \n",
       "9          10             2-Aug    Indian women's team    Gold  Women's fours   \n",
       "\n",
       "           Sport  \n",
       "0  Weightlifting  \n",
       "1  Weightlifting  \n",
       "2  Weightlifting  \n",
       "3  Weightlifting  \n",
       "4  Weightlifting  \n",
       "5  Weightlifting  \n",
       "6           Judo  \n",
       "7           Judo  \n",
       "8  Weightlifting  \n",
       "9     Lawn bowls  "
      ]
     },
     "execution_count": 22,
     "metadata": {},
     "output_type": "execute_result"
    }
   ],
   "source": [
    "CWG.head(10) #(10) show first 10 rows"
   ]
  },
  {
   "cell_type": "markdown",
   "id": "a6c5787f",
   "metadata": {},
   "source": [
    "# .tail()"
   ]
  },
  {
   "cell_type": "code",
   "execution_count": 23,
   "id": "174d8b73",
   "metadata": {},
   "outputs": [
    {
     "data": {
      "text/html": [
       "<div>\n",
       "<style scoped>\n",
       "    .dataframe tbody tr th:only-of-type {\n",
       "        vertical-align: middle;\n",
       "    }\n",
       "\n",
       "    .dataframe tbody tr th {\n",
       "        vertical-align: top;\n",
       "    }\n",
       "\n",
       "    .dataframe thead th {\n",
       "        text-align: right;\n",
       "    }\n",
       "</style>\n",
       "<table border=\"1\" class=\"dataframe\">\n",
       "  <thead>\n",
       "    <tr style=\"text-align: right;\">\n",
       "      <th></th>\n",
       "      <th>Unnamed: 0</th>\n",
       "      <th>Date of Medal Won</th>\n",
       "      <th>Athlete</th>\n",
       "      <th>Medal</th>\n",
       "      <th>Event</th>\n",
       "      <th>Sport</th>\n",
       "    </tr>\n",
       "  </thead>\n",
       "  <tbody>\n",
       "    <tr>\n",
       "      <th>56</th>\n",
       "      <td>57</td>\n",
       "      <td>8-Aug</td>\n",
       "      <td>Lakshya Sen</td>\n",
       "      <td>Gold</td>\n",
       "      <td>Men's singles</td>\n",
       "      <td>Badminton</td>\n",
       "    </tr>\n",
       "    <tr>\n",
       "      <th>57</th>\n",
       "      <td>58</td>\n",
       "      <td>8-Aug</td>\n",
       "      <td>Sathiyan Gnanasekaran</td>\n",
       "      <td>Bronze</td>\n",
       "      <td>Men's singles</td>\n",
       "      <td>Table Tennis</td>\n",
       "    </tr>\n",
       "    <tr>\n",
       "      <th>58</th>\n",
       "      <td>59</td>\n",
       "      <td>8-Aug</td>\n",
       "      <td>Satwiksairaj Rankireddy / Chirag Shetty</td>\n",
       "      <td>Gold</td>\n",
       "      <td>Men's doubles</td>\n",
       "      <td>Badminton</td>\n",
       "    </tr>\n",
       "    <tr>\n",
       "      <th>59</th>\n",
       "      <td>60</td>\n",
       "      <td>8-Aug</td>\n",
       "      <td>Sharath Kamal</td>\n",
       "      <td>Gold</td>\n",
       "      <td>Men's singles</td>\n",
       "      <td>Table Tennis</td>\n",
       "    </tr>\n",
       "    <tr>\n",
       "      <th>60</th>\n",
       "      <td>61</td>\n",
       "      <td>8-Aug</td>\n",
       "      <td>Men's hockey team</td>\n",
       "      <td>Silver</td>\n",
       "      <td>Men's hockey</td>\n",
       "      <td>Hockey</td>\n",
       "    </tr>\n",
       "  </tbody>\n",
       "</table>\n",
       "</div>"
      ],
      "text/plain": [
       "    Unnamed: 0 Date of Medal Won                                  Athlete  \\\n",
       "56          57             8-Aug                              Lakshya Sen   \n",
       "57          58             8-Aug                    Sathiyan Gnanasekaran   \n",
       "58          59             8-Aug  Satwiksairaj Rankireddy / Chirag Shetty   \n",
       "59          60             8-Aug                            Sharath Kamal   \n",
       "60          61             8-Aug                        Men's hockey team   \n",
       "\n",
       "     Medal          Event         Sport  \n",
       "56    Gold  Men's singles     Badminton  \n",
       "57  Bronze  Men's singles  Table Tennis  \n",
       "58    Gold  Men's doubles     Badminton  \n",
       "59    Gold  Men's singles  Table Tennis  \n",
       "60  Silver   Men's hockey        Hockey  "
      ]
     },
     "execution_count": 23,
     "metadata": {},
     "output_type": "execute_result"
    }
   ],
   "source": [
    "CWG.tail()  # will display last five records"
   ]
  },
  {
   "cell_type": "code",
   "execution_count": 24,
   "id": "47f68f3f",
   "metadata": {},
   "outputs": [
    {
     "data": {
      "text/html": [
       "<div>\n",
       "<style scoped>\n",
       "    .dataframe tbody tr th:only-of-type {\n",
       "        vertical-align: middle;\n",
       "    }\n",
       "\n",
       "    .dataframe tbody tr th {\n",
       "        vertical-align: top;\n",
       "    }\n",
       "\n",
       "    .dataframe thead th {\n",
       "        text-align: right;\n",
       "    }\n",
       "</style>\n",
       "<table border=\"1\" class=\"dataframe\">\n",
       "  <thead>\n",
       "    <tr style=\"text-align: right;\">\n",
       "      <th></th>\n",
       "      <th>Unnamed: 0</th>\n",
       "      <th>Date of Medal Won</th>\n",
       "      <th>Athlete</th>\n",
       "      <th>Medal</th>\n",
       "      <th>Event</th>\n",
       "      <th>Sport</th>\n",
       "    </tr>\n",
       "  </thead>\n",
       "  <tbody>\n",
       "    <tr>\n",
       "      <th>51</th>\n",
       "      <td>52</td>\n",
       "      <td>7-Aug</td>\n",
       "      <td>Women's cricket team</td>\n",
       "      <td>Silver</td>\n",
       "      <td>Women's T20</td>\n",
       "      <td>Cricket</td>\n",
       "    </tr>\n",
       "    <tr>\n",
       "      <th>52</th>\n",
       "      <td>53</td>\n",
       "      <td>7-Aug</td>\n",
       "      <td>Sharath Kamal / Sreeja Akula</td>\n",
       "      <td>Gold</td>\n",
       "      <td>Mixed doubles</td>\n",
       "      <td>Table Tennis</td>\n",
       "    </tr>\n",
       "    <tr>\n",
       "      <th>53</th>\n",
       "      <td>54</td>\n",
       "      <td>7-Aug</td>\n",
       "      <td>Treesa Jolly / Gayatri Gopichand</td>\n",
       "      <td>Bronze</td>\n",
       "      <td>Women's doubles</td>\n",
       "      <td>Badminton</td>\n",
       "    </tr>\n",
       "    <tr>\n",
       "      <th>54</th>\n",
       "      <td>55</td>\n",
       "      <td>7-Aug</td>\n",
       "      <td>Sagar Ahlawat</td>\n",
       "      <td>Silver</td>\n",
       "      <td>Men's 92+kg super heavyweight</td>\n",
       "      <td>Boxing</td>\n",
       "    </tr>\n",
       "    <tr>\n",
       "      <th>55</th>\n",
       "      <td>56</td>\n",
       "      <td>8-Aug</td>\n",
       "      <td>PV Sindhu</td>\n",
       "      <td>Gold</td>\n",
       "      <td>Women's singles</td>\n",
       "      <td>Badminton</td>\n",
       "    </tr>\n",
       "    <tr>\n",
       "      <th>56</th>\n",
       "      <td>57</td>\n",
       "      <td>8-Aug</td>\n",
       "      <td>Lakshya Sen</td>\n",
       "      <td>Gold</td>\n",
       "      <td>Men's singles</td>\n",
       "      <td>Badminton</td>\n",
       "    </tr>\n",
       "    <tr>\n",
       "      <th>57</th>\n",
       "      <td>58</td>\n",
       "      <td>8-Aug</td>\n",
       "      <td>Sathiyan Gnanasekaran</td>\n",
       "      <td>Bronze</td>\n",
       "      <td>Men's singles</td>\n",
       "      <td>Table Tennis</td>\n",
       "    </tr>\n",
       "    <tr>\n",
       "      <th>58</th>\n",
       "      <td>59</td>\n",
       "      <td>8-Aug</td>\n",
       "      <td>Satwiksairaj Rankireddy / Chirag Shetty</td>\n",
       "      <td>Gold</td>\n",
       "      <td>Men's doubles</td>\n",
       "      <td>Badminton</td>\n",
       "    </tr>\n",
       "    <tr>\n",
       "      <th>59</th>\n",
       "      <td>60</td>\n",
       "      <td>8-Aug</td>\n",
       "      <td>Sharath Kamal</td>\n",
       "      <td>Gold</td>\n",
       "      <td>Men's singles</td>\n",
       "      <td>Table Tennis</td>\n",
       "    </tr>\n",
       "    <tr>\n",
       "      <th>60</th>\n",
       "      <td>61</td>\n",
       "      <td>8-Aug</td>\n",
       "      <td>Men's hockey team</td>\n",
       "      <td>Silver</td>\n",
       "      <td>Men's hockey</td>\n",
       "      <td>Hockey</td>\n",
       "    </tr>\n",
       "  </tbody>\n",
       "</table>\n",
       "</div>"
      ],
      "text/plain": [
       "    Unnamed: 0 Date of Medal Won                                  Athlete  \\\n",
       "51          52             7-Aug                     Women's cricket team   \n",
       "52          53             7-Aug             Sharath Kamal / Sreeja Akula   \n",
       "53          54             7-Aug         Treesa Jolly / Gayatri Gopichand   \n",
       "54          55             7-Aug                            Sagar Ahlawat   \n",
       "55          56             8-Aug                                PV Sindhu   \n",
       "56          57             8-Aug                              Lakshya Sen   \n",
       "57          58             8-Aug                    Sathiyan Gnanasekaran   \n",
       "58          59             8-Aug  Satwiksairaj Rankireddy / Chirag Shetty   \n",
       "59          60             8-Aug                            Sharath Kamal   \n",
       "60          61             8-Aug                        Men's hockey team   \n",
       "\n",
       "     Medal                          Event         Sport  \n",
       "51  Silver                    Women's T20       Cricket  \n",
       "52    Gold                  Mixed doubles  Table Tennis  \n",
       "53  Bronze                Women's doubles     Badminton  \n",
       "54  Silver  Men's 92+kg super heavyweight        Boxing  \n",
       "55    Gold                Women's singles     Badminton  \n",
       "56    Gold                  Men's singles     Badminton  \n",
       "57  Bronze                  Men's singles  Table Tennis  \n",
       "58    Gold                  Men's doubles     Badminton  \n",
       "59    Gold                  Men's singles  Table Tennis  \n",
       "60  Silver                   Men's hockey        Hockey  "
      ]
     },
     "execution_count": 24,
     "metadata": {},
     "output_type": "execute_result"
    }
   ],
   "source": [
    "CWG.tail(10)  # will display last ten records"
   ]
  },
  {
   "cell_type": "markdown",
   "id": "9c843de0",
   "metadata": {},
   "source": [
    "# .filter()"
   ]
  },
  {
   "cell_type": "code",
   "execution_count": 88,
   "id": "96b8e3bb",
   "metadata": {},
   "outputs": [
    {
     "data": {
      "text/html": [
       "<div>\n",
       "<style scoped>\n",
       "    .dataframe tbody tr th:only-of-type {\n",
       "        vertical-align: middle;\n",
       "    }\n",
       "\n",
       "    .dataframe tbody tr th {\n",
       "        vertical-align: top;\n",
       "    }\n",
       "\n",
       "    .dataframe thead th {\n",
       "        text-align: right;\n",
       "    }\n",
       "</style>\n",
       "<table border=\"1\" class=\"dataframe\">\n",
       "  <thead>\n",
       "    <tr style=\"text-align: right;\">\n",
       "      <th></th>\n",
       "      <th>Medal</th>\n",
       "      <th>Event</th>\n",
       "    </tr>\n",
       "  </thead>\n",
       "  <tbody>\n",
       "    <tr>\n",
       "      <th>0</th>\n",
       "      <td>Silver</td>\n",
       "      <td>Men's 55kg</td>\n",
       "    </tr>\n",
       "    <tr>\n",
       "      <th>1</th>\n",
       "      <td>Bronze</td>\n",
       "      <td>Men's 61kg</td>\n",
       "    </tr>\n",
       "    <tr>\n",
       "      <th>2</th>\n",
       "      <td>Gold</td>\n",
       "      <td>Women's 49kg</td>\n",
       "    </tr>\n",
       "    <tr>\n",
       "      <th>3</th>\n",
       "      <td>Silver</td>\n",
       "      <td>Women's 55kg</td>\n",
       "    </tr>\n",
       "    <tr>\n",
       "      <th>4</th>\n",
       "      <td>Gold</td>\n",
       "      <td>Men's 67kg</td>\n",
       "    </tr>\n",
       "    <tr>\n",
       "      <th>...</th>\n",
       "      <td>...</td>\n",
       "      <td>...</td>\n",
       "    </tr>\n",
       "    <tr>\n",
       "      <th>56</th>\n",
       "      <td>Gold</td>\n",
       "      <td>Men's singles</td>\n",
       "    </tr>\n",
       "    <tr>\n",
       "      <th>57</th>\n",
       "      <td>Bronze</td>\n",
       "      <td>Men's singles</td>\n",
       "    </tr>\n",
       "    <tr>\n",
       "      <th>58</th>\n",
       "      <td>Gold</td>\n",
       "      <td>Men's doubles</td>\n",
       "    </tr>\n",
       "    <tr>\n",
       "      <th>59</th>\n",
       "      <td>Gold</td>\n",
       "      <td>Men's singles</td>\n",
       "    </tr>\n",
       "    <tr>\n",
       "      <th>60</th>\n",
       "      <td>Silver</td>\n",
       "      <td>Men's hockey</td>\n",
       "    </tr>\n",
       "  </tbody>\n",
       "</table>\n",
       "<p>61 rows × 2 columns</p>\n",
       "</div>"
      ],
      "text/plain": [
       "     Medal          Event\n",
       "0   Silver     Men's 55kg\n",
       "1   Bronze     Men's 61kg\n",
       "2     Gold   Women's 49kg\n",
       "3   Silver   Women's 55kg\n",
       "4     Gold     Men's 67kg\n",
       "..     ...            ...\n",
       "56    Gold  Men's singles\n",
       "57  Bronze  Men's singles\n",
       "58    Gold  Men's doubles\n",
       "59    Gold  Men's singles\n",
       "60  Silver   Men's hockey\n",
       "\n",
       "[61 rows x 2 columns]"
      ]
     },
     "execution_count": 88,
     "metadata": {},
     "output_type": "execute_result"
    }
   ],
   "source": [
    "#use for filtering any index\n",
    "CWG.filter(['Medal','Event'])"
   ]
  },
  {
   "cell_type": "markdown",
   "id": "2cc1eb03",
   "metadata": {},
   "source": [
    "# .describe()"
   ]
  },
  {
   "cell_type": "code",
   "execution_count": 25,
   "id": "6484b180",
   "metadata": {},
   "outputs": [
    {
     "data": {
      "text/html": [
       "<div>\n",
       "<style scoped>\n",
       "    .dataframe tbody tr th:only-of-type {\n",
       "        vertical-align: middle;\n",
       "    }\n",
       "\n",
       "    .dataframe tbody tr th {\n",
       "        vertical-align: top;\n",
       "    }\n",
       "\n",
       "    .dataframe thead th {\n",
       "        text-align: right;\n",
       "    }\n",
       "</style>\n",
       "<table border=\"1\" class=\"dataframe\">\n",
       "  <thead>\n",
       "    <tr style=\"text-align: right;\">\n",
       "      <th></th>\n",
       "      <th>Unnamed: 0</th>\n",
       "    </tr>\n",
       "  </thead>\n",
       "  <tbody>\n",
       "    <tr>\n",
       "      <th>count</th>\n",
       "      <td>61.000000</td>\n",
       "    </tr>\n",
       "    <tr>\n",
       "      <th>mean</th>\n",
       "      <td>31.000000</td>\n",
       "    </tr>\n",
       "    <tr>\n",
       "      <th>std</th>\n",
       "      <td>17.752934</td>\n",
       "    </tr>\n",
       "    <tr>\n",
       "      <th>min</th>\n",
       "      <td>1.000000</td>\n",
       "    </tr>\n",
       "    <tr>\n",
       "      <th>25%</th>\n",
       "      <td>16.000000</td>\n",
       "    </tr>\n",
       "    <tr>\n",
       "      <th>50%</th>\n",
       "      <td>31.000000</td>\n",
       "    </tr>\n",
       "    <tr>\n",
       "      <th>75%</th>\n",
       "      <td>46.000000</td>\n",
       "    </tr>\n",
       "    <tr>\n",
       "      <th>max</th>\n",
       "      <td>61.000000</td>\n",
       "    </tr>\n",
       "  </tbody>\n",
       "</table>\n",
       "</div>"
      ],
      "text/plain": [
       "       Unnamed: 0\n",
       "count   61.000000\n",
       "mean    31.000000\n",
       "std     17.752934\n",
       "min      1.000000\n",
       "25%     16.000000\n",
       "50%     31.000000\n",
       "75%     46.000000\n",
       "max     61.000000"
      ]
     },
     "execution_count": 25,
     "metadata": {},
     "output_type": "execute_result"
    }
   ],
   "source": [
    "CWG.describe() # will describre the mean , median , std dev min ,max column"
   ]
  },
  {
   "cell_type": "code",
   "execution_count": 39,
   "id": "b1d79002",
   "metadata": {},
   "outputs": [
    {
     "data": {
      "text/plain": [
       "0     30-Jul\n",
       "1     30-Jul\n",
       "2     30-Jul\n",
       "3     30-Jul\n",
       "4     31-Jul\n",
       "       ...  \n",
       "56     8-Aug\n",
       "57     8-Aug\n",
       "58     8-Aug\n",
       "59     8-Aug\n",
       "60     8-Aug\n",
       "Name: Date of Medal Won, Length: 61, dtype: object"
      ]
     },
     "execution_count": 39,
     "metadata": {},
     "output_type": "execute_result"
    }
   ],
   "source": [
    "CWG['Date of Medal Won'] #execute index which we have to show "
   ]
  },
  {
   "cell_type": "code",
   "execution_count": 43,
   "id": "f558795c",
   "metadata": {},
   "outputs": [
    {
     "data": {
      "text/html": [
       "<div>\n",
       "<style scoped>\n",
       "    .dataframe tbody tr th:only-of-type {\n",
       "        vertical-align: middle;\n",
       "    }\n",
       "\n",
       "    .dataframe tbody tr th {\n",
       "        vertical-align: top;\n",
       "    }\n",
       "\n",
       "    .dataframe thead th {\n",
       "        text-align: right;\n",
       "    }\n",
       "</style>\n",
       "<table border=\"1\" class=\"dataframe\">\n",
       "  <thead>\n",
       "    <tr style=\"text-align: right;\">\n",
       "      <th></th>\n",
       "      <th>Date of Medal Won</th>\n",
       "      <th>Event</th>\n",
       "      <th>Athlete</th>\n",
       "    </tr>\n",
       "  </thead>\n",
       "  <tbody>\n",
       "    <tr>\n",
       "      <th>0</th>\n",
       "      <td>30-Jul</td>\n",
       "      <td>Men's 55kg</td>\n",
       "      <td>Sanket Sargar</td>\n",
       "    </tr>\n",
       "    <tr>\n",
       "      <th>1</th>\n",
       "      <td>30-Jul</td>\n",
       "      <td>Men's 61kg</td>\n",
       "      <td>Gururaja Poojary</td>\n",
       "    </tr>\n",
       "    <tr>\n",
       "      <th>2</th>\n",
       "      <td>30-Jul</td>\n",
       "      <td>Women's 49kg</td>\n",
       "      <td>Mirabai Chanbu</td>\n",
       "    </tr>\n",
       "    <tr>\n",
       "      <th>3</th>\n",
       "      <td>30-Jul</td>\n",
       "      <td>Women's 55kg</td>\n",
       "      <td>Bindyarani Devi</td>\n",
       "    </tr>\n",
       "    <tr>\n",
       "      <th>4</th>\n",
       "      <td>31-Jul</td>\n",
       "      <td>Men's 67kg</td>\n",
       "      <td>Jeremy Lalrinnunga</td>\n",
       "    </tr>\n",
       "    <tr>\n",
       "      <th>...</th>\n",
       "      <td>...</td>\n",
       "      <td>...</td>\n",
       "      <td>...</td>\n",
       "    </tr>\n",
       "    <tr>\n",
       "      <th>56</th>\n",
       "      <td>8-Aug</td>\n",
       "      <td>Men's singles</td>\n",
       "      <td>Lakshya Sen</td>\n",
       "    </tr>\n",
       "    <tr>\n",
       "      <th>57</th>\n",
       "      <td>8-Aug</td>\n",
       "      <td>Men's singles</td>\n",
       "      <td>Sathiyan Gnanasekaran</td>\n",
       "    </tr>\n",
       "    <tr>\n",
       "      <th>58</th>\n",
       "      <td>8-Aug</td>\n",
       "      <td>Men's doubles</td>\n",
       "      <td>Satwiksairaj Rankireddy / Chirag Shetty</td>\n",
       "    </tr>\n",
       "    <tr>\n",
       "      <th>59</th>\n",
       "      <td>8-Aug</td>\n",
       "      <td>Men's singles</td>\n",
       "      <td>Sharath Kamal</td>\n",
       "    </tr>\n",
       "    <tr>\n",
       "      <th>60</th>\n",
       "      <td>8-Aug</td>\n",
       "      <td>Men's hockey</td>\n",
       "      <td>Men's hockey team</td>\n",
       "    </tr>\n",
       "  </tbody>\n",
       "</table>\n",
       "<p>61 rows × 3 columns</p>\n",
       "</div>"
      ],
      "text/plain": [
       "   Date of Medal Won          Event                                  Athlete\n",
       "0             30-Jul     Men's 55kg                            Sanket Sargar\n",
       "1             30-Jul     Men's 61kg                         Gururaja Poojary\n",
       "2             30-Jul   Women's 49kg                           Mirabai Chanbu\n",
       "3             30-Jul   Women's 55kg                          Bindyarani Devi\n",
       "4             31-Jul     Men's 67kg                       Jeremy Lalrinnunga\n",
       "..               ...            ...                                      ...\n",
       "56             8-Aug  Men's singles                              Lakshya Sen\n",
       "57             8-Aug  Men's singles                    Sathiyan Gnanasekaran\n",
       "58             8-Aug  Men's doubles  Satwiksairaj Rankireddy / Chirag Shetty\n",
       "59             8-Aug  Men's singles                            Sharath Kamal\n",
       "60             8-Aug   Men's hockey                        Men's hockey team\n",
       "\n",
       "[61 rows x 3 columns]"
      ]
     },
     "execution_count": 43,
     "metadata": {},
     "output_type": "execute_result"
    }
   ],
   "source": [
    "CWG[['Date of Medal Won','Event','Athlete']]"
   ]
  },
  {
   "cell_type": "markdown",
   "id": "635109e1",
   "metadata": {},
   "source": [
    "# .min/max/means "
   ]
  },
  {
   "cell_type": "markdown",
   "id": "044f16cd",
   "metadata": {},
   "source": [
    "used for maximun, minimum and means of data"
   ]
  },
  {
   "cell_type": "markdown",
   "id": "8b9ad67f",
   "metadata": {},
   "source": [
    "# .iloc[: (row), : (colums)]"
   ]
  },
  {
   "cell_type": "code",
   "execution_count": 27,
   "id": "c151466e",
   "metadata": {},
   "outputs": [
    {
     "data": {
      "text/html": [
       "<div>\n",
       "<style scoped>\n",
       "    .dataframe tbody tr th:only-of-type {\n",
       "        vertical-align: middle;\n",
       "    }\n",
       "\n",
       "    .dataframe tbody tr th {\n",
       "        vertical-align: top;\n",
       "    }\n",
       "\n",
       "    .dataframe thead th {\n",
       "        text-align: right;\n",
       "    }\n",
       "</style>\n",
       "<table border=\"1\" class=\"dataframe\">\n",
       "  <thead>\n",
       "    <tr style=\"text-align: right;\">\n",
       "      <th></th>\n",
       "      <th>Athlete</th>\n",
       "      <th>Medal</th>\n",
       "      <th>Event</th>\n",
       "      <th>Sport</th>\n",
       "    </tr>\n",
       "  </thead>\n",
       "  <tbody>\n",
       "    <tr>\n",
       "      <th>5</th>\n",
       "      <td>Achinta Sheuli</td>\n",
       "      <td>Gold</td>\n",
       "      <td>Men's 73kg</td>\n",
       "      <td>Weightlifting</td>\n",
       "    </tr>\n",
       "    <tr>\n",
       "      <th>6</th>\n",
       "      <td>Sushila Devi Likmabam</td>\n",
       "      <td>Silver</td>\n",
       "      <td>Women's 48kg</td>\n",
       "      <td>Judo</td>\n",
       "    </tr>\n",
       "    <tr>\n",
       "      <th>7</th>\n",
       "      <td>Vijay Kumar Yadav</td>\n",
       "      <td>Bronze</td>\n",
       "      <td>Men's 60kg</td>\n",
       "      <td>Judo</td>\n",
       "    </tr>\n",
       "    <tr>\n",
       "      <th>8</th>\n",
       "      <td>Harjinder Kaur</td>\n",
       "      <td>Bronze</td>\n",
       "      <td>Women's 71kg</td>\n",
       "      <td>Weightlifting</td>\n",
       "    </tr>\n",
       "    <tr>\n",
       "      <th>9</th>\n",
       "      <td>Indian women's team</td>\n",
       "      <td>Gold</td>\n",
       "      <td>Women's fours</td>\n",
       "      <td>Lawn bowls</td>\n",
       "    </tr>\n",
       "    <tr>\n",
       "      <th>10</th>\n",
       "      <td>Vikas Thakur</td>\n",
       "      <td>Silver</td>\n",
       "      <td>Men's 96kg</td>\n",
       "      <td>Weightlifting</td>\n",
       "    </tr>\n",
       "  </tbody>\n",
       "</table>\n",
       "</div>"
      ],
      "text/plain": [
       "                  Athlete   Medal          Event          Sport\n",
       "5          Achinta Sheuli    Gold     Men's 73kg  Weightlifting\n",
       "6   Sushila Devi Likmabam  Silver   Women's 48kg           Judo\n",
       "7       Vijay Kumar Yadav  Bronze     Men's 60kg           Judo\n",
       "8          Harjinder Kaur  Bronze   Women's 71kg  Weightlifting\n",
       "9     Indian women's team    Gold  Women's fours     Lawn bowls\n",
       "10           Vikas Thakur  Silver     Men's 96kg  Weightlifting"
      ]
     },
     "execution_count": 27,
     "metadata": {},
     "output_type": "execute_result"
    }
   ],
   "source": [
    "#iloc, in iloc we have to give index number of the columns to b printed.\n",
    "#extract 5 to 10 records with heading Athletes onwarsds , first argument is for rows and next is for columns\n",
    "CWG.iloc[5:11,2:] # [5:11-1 (row), 2:(colums)]"
   ]
  },
  {
   "cell_type": "markdown",
   "id": "b3fc0c4d",
   "metadata": {},
   "source": [
    "# .loc"
   ]
  },
  {
   "cell_type": "code",
   "execution_count": 32,
   "id": "a6cf8bd8",
   "metadata": {},
   "outputs": [
    {
     "data": {
      "text/plain": [
       "0         Sanket Sargar\n",
       "1      Gururaja Poojary\n",
       "2        Mirabai Chanbu\n",
       "3       Bindyarani Devi\n",
       "4    Jeremy Lalrinnunga\n",
       "Name: Athlete, dtype: object"
      ]
     },
     "execution_count": 32,
     "metadata": {},
     "output_type": "execute_result"
    }
   ],
   "source": [
    "#loc print by writing a index\n",
    "CWG.loc[:4,('Athlete')] #[0:4(no. of rows),('which index we have to print')]"
   ]
  },
  {
   "cell_type": "code",
   "execution_count": 34,
   "id": "e37c94cb",
   "metadata": {},
   "outputs": [
    {
     "data": {
      "text/html": [
       "<div>\n",
       "<style scoped>\n",
       "    .dataframe tbody tr th:only-of-type {\n",
       "        vertical-align: middle;\n",
       "    }\n",
       "\n",
       "    .dataframe tbody tr th {\n",
       "        vertical-align: top;\n",
       "    }\n",
       "\n",
       "    .dataframe thead th {\n",
       "        text-align: right;\n",
       "    }\n",
       "</style>\n",
       "<table border=\"1\" class=\"dataframe\">\n",
       "  <thead>\n",
       "    <tr style=\"text-align: right;\">\n",
       "      <th></th>\n",
       "      <th>Athlete</th>\n",
       "      <th>Event</th>\n",
       "    </tr>\n",
       "  </thead>\n",
       "  <tbody>\n",
       "    <tr>\n",
       "      <th>5</th>\n",
       "      <td>Achinta Sheuli</td>\n",
       "      <td>Men's 73kg</td>\n",
       "    </tr>\n",
       "    <tr>\n",
       "      <th>6</th>\n",
       "      <td>Sushila Devi Likmabam</td>\n",
       "      <td>Women's 48kg</td>\n",
       "    </tr>\n",
       "    <tr>\n",
       "      <th>7</th>\n",
       "      <td>Vijay Kumar Yadav</td>\n",
       "      <td>Men's 60kg</td>\n",
       "    </tr>\n",
       "    <tr>\n",
       "      <th>8</th>\n",
       "      <td>Harjinder Kaur</td>\n",
       "      <td>Women's 71kg</td>\n",
       "    </tr>\n",
       "    <tr>\n",
       "      <th>9</th>\n",
       "      <td>Indian women's team</td>\n",
       "      <td>Women's fours</td>\n",
       "    </tr>\n",
       "    <tr>\n",
       "      <th>10</th>\n",
       "      <td>Vikas Thakur</td>\n",
       "      <td>Men's 96kg</td>\n",
       "    </tr>\n",
       "  </tbody>\n",
       "</table>\n",
       "</div>"
      ],
      "text/plain": [
       "                  Athlete          Event\n",
       "5          Achinta Sheuli     Men's 73kg\n",
       "6   Sushila Devi Likmabam   Women's 48kg\n",
       "7       Vijay Kumar Yadav     Men's 60kg\n",
       "8          Harjinder Kaur   Women's 71kg\n",
       "9     Indian women's team  Women's fours\n",
       "10           Vikas Thakur     Men's 96kg"
      ]
     },
     "execution_count": 34,
     "metadata": {},
     "output_type": "execute_result"
    }
   ],
   "source": [
    "CWG.loc[5:10,('Athlete','Event')]"
   ]
  },
  {
   "cell_type": "markdown",
   "id": "57eb671a",
   "metadata": {},
   "source": [
    "# .unique()"
   ]
  },
  {
   "cell_type": "code",
   "execution_count": 58,
   "id": "8edf5dd4",
   "metadata": {},
   "outputs": [
    {
     "data": {
      "text/plain": [
       "array([\"Men's 55kg\", \"Men's 61kg\", \"Women's 49kg\", \"Women's 55kg\",\n",
       "       \"Men's 67kg\", \"Men's 73kg\", \"Women's 48kg\", \"Men's 60kg\",\n",
       "       \"Women's 71kg\", \"Women's fours\", \"Men's 96kg\", \"Men's team\",\n",
       "       'Mixed team', \"Men's 109kg\", \"Men's 65kg \", \"Women's +78kg\",\n",
       "       \"Men's +109kg\", \"Men's high jump\", \"Men's long jump\",\n",
       "       \"Men's heavyweight\", \"Women's 57kg freestyle\",\n",
       "       \"Men's 65kg freestyle\", \"Women's 62kg freestyle\",\n",
       "       \"Men's 86kg freestyle\", \"Women's 68kg freestyle\",\n",
       "       \"Men's 125kg freestyle\", \"Women's 10000m race walk\",\n",
       "       \"Men's 3000m steeplechase\", \"Men's fours\",\n",
       "       \"Women's 60kg lightweight\", \"Women's 50kg freestyle\",\n",
       "       \"Men's 57kg freestyle\", \"Women's 53kg freestyle\",\n",
       "       \"Men's 74kg freestyle\", \"Women's 76kg freestyle\",\n",
       "       \"Men's 57kg featherweight\", \"Men's 97kg freestyle\",\n",
       "       \"Men's 67kg welterweight\", \"Women's singles Classes 3-5\",\n",
       "       \"Women's singles classes 3-5\", \"Women's hockey\",\n",
       "       \"Women's 48kg minimumweight\", \"Men's 51kg flyweight\",\n",
       "       \"Men's triple jump\", \"Men's 10000m race walk\",\n",
       "       \"Women's javelin throw\", \"Women's 50kg light flyweight\",\n",
       "       \"Men's doubles\", 'Mixed doubles', \"Men's singles\", \"Women's T20\",\n",
       "       \"Women's doubles\", \"Men's 92+kg super heavyweight\",\n",
       "       \"Women's singles\", \"Men's hockey\"], dtype=object)"
      ]
     },
     "execution_count": 58,
     "metadata": {},
     "output_type": "execute_result"
    }
   ],
   "source": [
    "#in a column it shows all the unique values. it can be applied on a single column only, not on the whole data frame\n",
    "CWG['Event'].unique()"
   ]
  },
  {
   "cell_type": "markdown",
   "id": "b93c31ec",
   "metadata": {},
   "source": [
    "# .nunique()"
   ]
  },
  {
   "cell_type": "code",
   "execution_count": 60,
   "id": "cda4e289",
   "metadata": {},
   "outputs": [
    {
     "data": {
      "text/plain": [
       "Unnamed: 0           61\n",
       "Date of Medal Won    10\n",
       "Athlete              60\n",
       "Medal                 3\n",
       "Event                55\n",
       "Sport                14\n",
       "dtype: int64"
      ]
     },
     "execution_count": 60,
     "metadata": {},
     "output_type": "execute_result"
    }
   ],
   "source": [
    "#.nunique() it shows the total number unique values in each columns, it can be applied on a single column as well as multiple.\n",
    "CWG.nunique() "
   ]
  },
  {
   "cell_type": "markdown",
   "id": "0c6b4d13",
   "metadata": {},
   "source": [
    "# .count"
   ]
  },
  {
   "cell_type": "code",
   "execution_count": 69,
   "id": "e323dd09",
   "metadata": {},
   "outputs": [
    {
     "data": {
      "text/plain": [
       "<bound method DataFrame.count of     Unnamed: 0 Date of Medal Won                                  Athlete  \\\n",
       "0            1            30-Jul                            Sanket Sargar   \n",
       "1            2            30-Jul                         Gururaja Poojary   \n",
       "2            3            30-Jul                           Mirabai Chanbu   \n",
       "3            4            30-Jul                          Bindyarani Devi   \n",
       "4            5            31-Jul                       Jeremy Lalrinnunga   \n",
       "..         ...               ...                                      ...   \n",
       "56          57             8-Aug                              Lakshya Sen   \n",
       "57          58             8-Aug                    Sathiyan Gnanasekaran   \n",
       "58          59             8-Aug  Satwiksairaj Rankireddy / Chirag Shetty   \n",
       "59          60             8-Aug                            Sharath Kamal   \n",
       "60          61             8-Aug                        Men's hockey team   \n",
       "\n",
       "     Medal          Event          Sport  \n",
       "0   Silver     Men's 55kg  Weightlifting  \n",
       "1   Bronze     Men's 61kg  Weightlifting  \n",
       "2     Gold   Women's 49kg  Weightlifting  \n",
       "3   Silver   Women's 55kg  Weightlifting  \n",
       "4     Gold     Men's 67kg  Weightlifting  \n",
       "..     ...            ...            ...  \n",
       "56    Gold  Men's singles      Badminton  \n",
       "57  Bronze  Men's singles   Table Tennis  \n",
       "58    Gold  Men's doubles      Badminton  \n",
       "59    Gold  Men's singles   Table Tennis  \n",
       "60  Silver   Men's hockey         Hockey  \n",
       "\n",
       "[61 rows x 6 columns]>"
      ]
     },
     "execution_count": 69,
     "metadata": {},
     "output_type": "execute_result"
    }
   ],
   "source": [
    "#it shows total no. of non null columns\n",
    "CWG.count"
   ]
  },
  {
   "cell_type": "code",
   "execution_count": 70,
   "id": "ebeb3ae8",
   "metadata": {},
   "outputs": [
    {
     "data": {
      "text/plain": [
       "<bound method Series.count of 0     Weightlifting\n",
       "1     Weightlifting\n",
       "2     Weightlifting\n",
       "3     Weightlifting\n",
       "4     Weightlifting\n",
       "          ...      \n",
       "56        Badminton\n",
       "57     Table Tennis\n",
       "58        Badminton\n",
       "59     Table Tennis\n",
       "60           Hockey\n",
       "Name: Sport, Length: 61, dtype: object>"
      ]
     },
     "execution_count": 70,
     "metadata": {},
     "output_type": "execute_result"
    }
   ],
   "source": [
    "CWG['Sport'].count"
   ]
  },
  {
   "cell_type": "markdown",
   "id": "9ccc9526",
   "metadata": {},
   "source": [
    "# .value_counts"
   ]
  },
  {
   "cell_type": "code",
   "execution_count": 76,
   "id": "65b8fe12",
   "metadata": {},
   "outputs": [
    {
     "data": {
      "text/plain": [
       "Men's singles                    4\n",
       "Mixed doubles                    2\n",
       "Men's doubles                    2\n",
       "Men's triple jump                2\n",
       "Men's 55kg                       1\n",
       "Women's singles classes 3-5      1\n",
       "Women's 50kg freestyle           1\n",
       "Men's 57kg freestyle             1\n",
       "Women's 53kg freestyle           1\n",
       "Men's 74kg freestyle             1\n",
       "Women's 76kg freestyle           1\n",
       "Men's 57kg featherweight         1\n",
       "Men's 97kg freestyle             1\n",
       "Men's 67kg welterweight          1\n",
       "Women's singles Classes 3-5      1\n",
       "Men's 51kg flyweight             1\n",
       "Women's hockey                   1\n",
       "Women's 48kg minimumweight       1\n",
       "Men's fours                      1\n",
       "Men's 10000m race walk           1\n",
       "Women's javelin throw            1\n",
       "Women's 50kg light flyweight     1\n",
       "Women's T20                      1\n",
       "Women's doubles                  1\n",
       "Men's 92+kg super heavyweight    1\n",
       "Women's singles                  1\n",
       "Women's 60kg lightweight         1\n",
       "Men's 3000m steeplechase         1\n",
       "Men's 61kg                       1\n",
       "Men's 109kg                      1\n",
       "Women's 49kg                     1\n",
       "Women's 55kg                     1\n",
       "Men's 67kg                       1\n",
       "Men's 73kg                       1\n",
       "Women's 48kg                     1\n",
       "Men's 60kg                       1\n",
       "Women's 71kg                     1\n",
       "Women's fours                    1\n",
       "Men's 96kg                       1\n",
       "Men's team                       1\n",
       "Mixed team                       1\n",
       "Men's 65kg                       1\n",
       "Women's 10000m race walk         1\n",
       "Women's +78kg                    1\n",
       "Men's +109kg                     1\n",
       "Men's high jump                  1\n",
       "Men's long jump                  1\n",
       "Men's heavyweight                1\n",
       "Women's 57kg freestyle           1\n",
       "Men's 65kg freestyle             1\n",
       "Women's 62kg freestyle           1\n",
       "Men's 86kg freestyle             1\n",
       "Women's 68kg freestyle           1\n",
       "Men's 125kg freestyle            1\n",
       "Men's hockey                     1\n",
       "Name: Event, dtype: int64"
      ]
     },
     "execution_count": 76,
     "metadata": {},
     "output_type": "execute_result"
    }
   ],
   "source": [
    "#in a column, it shows all the uniques values with their count, it can be applied on a single column \n",
    "CWG['Event'].value_counts()"
   ]
  },
  {
   "cell_type": "markdown",
   "id": "0b63e6d0",
   "metadata": {},
   "source": [
    "# .info()"
   ]
  },
  {
   "cell_type": "code",
   "execution_count": 78,
   "id": "90d6e859",
   "metadata": {},
   "outputs": [
    {
     "name": "stdout",
     "output_type": "stream",
     "text": [
      "<class 'pandas.core.frame.DataFrame'>\n",
      "RangeIndex: 61 entries, 0 to 60\n",
      "Data columns (total 6 columns):\n",
      " #   Column             Non-Null Count  Dtype \n",
      "---  ------             --------------  ----- \n",
      " 0   Unnamed: 0         61 non-null     int64 \n",
      " 1   Date of Medal Won  61 non-null     object\n",
      " 2   Athlete            61 non-null     object\n",
      " 3   Medal              61 non-null     object\n",
      " 4   Event              61 non-null     object\n",
      " 5   Sport              61 non-null     object\n",
      "dtypes: int64(1), object(5)\n",
      "memory usage: 3.0+ KB\n"
     ]
    }
   ],
   "source": [
    "#provides basic information about the dataframe\n",
    "CWG.info()"
   ]
  },
  {
   "cell_type": "markdown",
   "id": "a42d7491",
   "metadata": {},
   "source": [
    "# Dataframe.groupby()"
   ]
  },
  {
   "cell_type": "code",
   "execution_count": 96,
   "id": "7c9e65c8",
   "metadata": {},
   "outputs": [],
   "source": [
    "g=CWG.groupby(['Date of Medal Won']) # is used for grouping the data according to the categories and apply a function\n",
    "#to the categories. It also helps to aggregate data efficiently."
   ]
  },
  {
   "cell_type": "code",
   "execution_count": 97,
   "id": "773e219d",
   "metadata": {},
   "outputs": [
    {
     "data": {
      "text/plain": [
       "<pandas.core.groupby.generic.DataFrameGroupBy object at 0x0000025741DFC040>"
      ]
     },
     "execution_count": 97,
     "metadata": {},
     "output_type": "execute_result"
    }
   ],
   "source": [
    "g"
   ]
  },
  {
   "cell_type": "code",
   "execution_count": 100,
   "id": "323c24ab",
   "metadata": {},
   "outputs": [
    {
     "data": {
      "text/html": [
       "<div>\n",
       "<style scoped>\n",
       "    .dataframe tbody tr th:only-of-type {\n",
       "        vertical-align: middle;\n",
       "    }\n",
       "\n",
       "    .dataframe tbody tr th {\n",
       "        vertical-align: top;\n",
       "    }\n",
       "\n",
       "    .dataframe thead th {\n",
       "        text-align: right;\n",
       "    }\n",
       "</style>\n",
       "<table border=\"1\" class=\"dataframe\">\n",
       "  <thead>\n",
       "    <tr style=\"text-align: right;\">\n",
       "      <th></th>\n",
       "      <th>Unnamed: 0</th>\n",
       "      <th>Date of Medal Won</th>\n",
       "      <th>Athlete</th>\n",
       "      <th>Medal</th>\n",
       "      <th>Event</th>\n",
       "      <th>Sport</th>\n",
       "    </tr>\n",
       "  </thead>\n",
       "  <tbody>\n",
       "    <tr>\n",
       "      <th>6</th>\n",
       "      <td>7</td>\n",
       "      <td>1-Aug</td>\n",
       "      <td>Sushila Devi Likmabam</td>\n",
       "      <td>Silver</td>\n",
       "      <td>Women's 48kg</td>\n",
       "      <td>Judo</td>\n",
       "    </tr>\n",
       "    <tr>\n",
       "      <th>7</th>\n",
       "      <td>8</td>\n",
       "      <td>1-Aug</td>\n",
       "      <td>Vijay Kumar Yadav</td>\n",
       "      <td>Bronze</td>\n",
       "      <td>Men's 60kg</td>\n",
       "      <td>Judo</td>\n",
       "    </tr>\n",
       "    <tr>\n",
       "      <th>8</th>\n",
       "      <td>9</td>\n",
       "      <td>1-Aug</td>\n",
       "      <td>Harjinder Kaur</td>\n",
       "      <td>Bronze</td>\n",
       "      <td>Women's 71kg</td>\n",
       "      <td>Weightlifting</td>\n",
       "    </tr>\n",
       "  </tbody>\n",
       "</table>\n",
       "</div>"
      ],
      "text/plain": [
       "   Unnamed: 0 Date of Medal Won                Athlete   Medal         Event  \\\n",
       "6           7             1-Aug  Sushila Devi Likmabam  Silver  Women's 48kg   \n",
       "7           8             1-Aug      Vijay Kumar Yadav  Bronze    Men's 60kg   \n",
       "8           9             1-Aug         Harjinder Kaur  Bronze  Women's 71kg   \n",
       "\n",
       "           Sport  \n",
       "6           Judo  \n",
       "7           Judo  \n",
       "8  Weightlifting  "
      ]
     },
     "execution_count": 100,
     "metadata": {},
     "output_type": "execute_result"
    }
   ],
   "source": [
    "g.get_group('1-Aug') #to axcess dataframe.groupby()"
   ]
  },
  {
   "cell_type": "code",
   "execution_count": 192,
   "id": "3910aaaf",
   "metadata": {},
   "outputs": [
    {
     "data": {
      "text/plain": [
       "<pandas.core.groupby.generic.DataFrameGroupBy object at 0x00000257434FDB50>"
      ]
     },
     "execution_count": 192,
     "metadata": {},
     "output_type": "execute_result"
    }
   ],
   "source": [
    "cc=CWG.groupby(['Event'])\n",
    "cc"
   ]
  },
  {
   "cell_type": "markdown",
   "id": "1db973ad",
   "metadata": {},
   "source": [
    "# QUESTIONS"
   ]
  },
  {
   "cell_type": "markdown",
   "id": "735821aa",
   "metadata": {},
   "source": [
    "# Q1. Name of all Athlete's which won medals?"
   ]
  },
  {
   "cell_type": "code",
   "execution_count": 90,
   "id": "5969690f",
   "metadata": {},
   "outputs": [
    {
     "data": {
      "text/html": [
       "<div>\n",
       "<style scoped>\n",
       "    .dataframe tbody tr th:only-of-type {\n",
       "        vertical-align: middle;\n",
       "    }\n",
       "\n",
       "    .dataframe tbody tr th {\n",
       "        vertical-align: top;\n",
       "    }\n",
       "\n",
       "    .dataframe thead th {\n",
       "        text-align: right;\n",
       "    }\n",
       "</style>\n",
       "<table border=\"1\" class=\"dataframe\">\n",
       "  <thead>\n",
       "    <tr style=\"text-align: right;\">\n",
       "      <th></th>\n",
       "      <th>Unnamed: 0</th>\n",
       "      <th>Date of Medal Won</th>\n",
       "      <th>Athlete</th>\n",
       "      <th>Medal</th>\n",
       "      <th>Event</th>\n",
       "      <th>Sport</th>\n",
       "    </tr>\n",
       "  </thead>\n",
       "  <tbody>\n",
       "    <tr>\n",
       "      <th>0</th>\n",
       "      <td>1</td>\n",
       "      <td>30-Jul</td>\n",
       "      <td>Sanket Sargar</td>\n",
       "      <td>Silver</td>\n",
       "      <td>Men's 55kg</td>\n",
       "      <td>Weightlifting</td>\n",
       "    </tr>\n",
       "    <tr>\n",
       "      <th>1</th>\n",
       "      <td>2</td>\n",
       "      <td>30-Jul</td>\n",
       "      <td>Gururaja Poojary</td>\n",
       "      <td>Bronze</td>\n",
       "      <td>Men's 61kg</td>\n",
       "      <td>Weightlifting</td>\n",
       "    </tr>\n",
       "    <tr>\n",
       "      <th>2</th>\n",
       "      <td>3</td>\n",
       "      <td>30-Jul</td>\n",
       "      <td>Mirabai Chanbu</td>\n",
       "      <td>Gold</td>\n",
       "      <td>Women's 49kg</td>\n",
       "      <td>Weightlifting</td>\n",
       "    </tr>\n",
       "  </tbody>\n",
       "</table>\n",
       "</div>"
      ],
      "text/plain": [
       "   Unnamed: 0 Date of Medal Won           Athlete   Medal         Event  \\\n",
       "0           1            30-Jul     Sanket Sargar  Silver    Men's 55kg   \n",
       "1           2            30-Jul  Gururaja Poojary  Bronze    Men's 61kg   \n",
       "2           3            30-Jul    Mirabai Chanbu    Gold  Women's 49kg   \n",
       "\n",
       "           Sport  \n",
       "0  Weightlifting  \n",
       "1  Weightlifting  \n",
       "2  Weightlifting  "
      ]
     },
     "execution_count": 90,
     "metadata": {},
     "output_type": "execute_result"
    }
   ],
   "source": [
    "CWG.head(3)"
   ]
  },
  {
   "cell_type": "code",
   "execution_count": 54,
   "id": "401ee1ef",
   "metadata": {},
   "outputs": [
    {
     "data": {
      "text/plain": [
       "0                               Sanket Sargar\n",
       "1                            Gururaja Poojary\n",
       "2                              Mirabai Chanbu\n",
       "3                             Bindyarani Devi\n",
       "4                          Jeremy Lalrinnunga\n",
       "                       ...                   \n",
       "56                                Lakshya Sen\n",
       "57                      Sathiyan Gnanasekaran\n",
       "58    Satwiksairaj Rankireddy / Chirag Shetty\n",
       "59                              Sharath Kamal\n",
       "60                          Men's hockey team\n",
       "Name: Athlete, Length: 61, dtype: object"
      ]
     },
     "execution_count": 54,
     "metadata": {},
     "output_type": "execute_result"
    }
   ],
   "source": [
    "CWG['Athlete']"
   ]
  },
  {
   "cell_type": "code",
   "execution_count": 57,
   "id": "7527d392",
   "metadata": {},
   "outputs": [
    {
     "data": {
      "text/plain": [
       "array(['Sanket Sargar', 'Gururaja Poojary', 'Mirabai Chanbu',\n",
       "       'Bindyarani Devi', 'Jeremy Lalrinnunga', 'Achinta Sheuli',\n",
       "       'Sushila Devi Likmabam', 'Vijay Kumar Yadav', 'Harjinder Kaur',\n",
       "       \"Indian women's team\", 'Vikas Thakur', \"Indian men's team\",\n",
       "       'Indian mixed team', 'Lovepreet Singh', 'Saurav Ghosal',\n",
       "       'Tulika Maan', 'Gurdeep Singh', 'Tejaswin Shankar',\n",
       "       'Murali Sreeshankar', 'Sudhir', 'Anshu Malik', 'Bajrang Punia',\n",
       "       'Sakshi Malik', 'Deepak Punia', 'Divya Kakran', 'Mohit Grewal',\n",
       "       'Priyanka Goswami', 'Avinash Sable', 'Jaismine Lamboria',\n",
       "       'Pooja Gehlot', 'Ravi Kumar Dahiya', 'Vinesh Phogat', 'Naveen',\n",
       "       'Pooja Sihag', 'Mohammad Hussamuddin', 'Deepak Nehra',\n",
       "       'Rohit Tokas', 'Sonalben Patel', 'Bhavina Patel',\n",
       "       \"Women's hockey team\", 'Nitu Ghangas', 'Amit Panghal',\n",
       "       'Eldhose Paul', 'Abdulla Aboobacker', 'Sandeep Kumar', 'Annu Rani',\n",
       "       'Nikhat Zareen', 'Sharath Kamal / G Sathiyan',\n",
       "       'Dipika Pallikal / Saurav Ghosal', 'Kidambi Srikanth',\n",
       "       \"Women's cricket team\", 'Sharath Kamal / Sreeja Akula',\n",
       "       'Treesa Jolly / Gayatri Gopichand', 'Sagar Ahlawat', 'PV Sindhu',\n",
       "       'Lakshya Sen', 'Sathiyan Gnanasekaran',\n",
       "       'Satwiksairaj Rankireddy / Chirag Shetty', 'Sharath Kamal',\n",
       "       \"Men's hockey team\"], dtype=object)"
      ]
     },
     "execution_count": 57,
     "metadata": {},
     "output_type": "execute_result"
    }
   ],
   "source": [
    "CWG['Athlete'].unique()"
   ]
  },
  {
   "cell_type": "markdown",
   "id": "ab04509e",
   "metadata": {},
   "source": [
    "# Q2. Total Medals Won?"
   ]
  },
  {
   "cell_type": "code",
   "execution_count": 55,
   "id": "6ddb54f8",
   "metadata": {},
   "outputs": [
    {
     "data": {
      "text/plain": [
       "0     Silver\n",
       "1     Bronze\n",
       "2       Gold\n",
       "3     Silver\n",
       "4       Gold\n",
       "       ...  \n",
       "56      Gold\n",
       "57    Bronze\n",
       "58      Gold\n",
       "59      Gold\n",
       "60    Silver\n",
       "Name: Medal, Length: 61, dtype: object"
      ]
     },
     "execution_count": 55,
     "metadata": {},
     "output_type": "execute_result"
    }
   ],
   "source": [
    "CWG['Medal']"
   ]
  },
  {
   "cell_type": "code",
   "execution_count": 89,
   "id": "42b7d205",
   "metadata": {},
   "outputs": [
    {
     "data": {
      "text/html": [
       "<div>\n",
       "<style scoped>\n",
       "    .dataframe tbody tr th:only-of-type {\n",
       "        vertical-align: middle;\n",
       "    }\n",
       "\n",
       "    .dataframe tbody tr th {\n",
       "        vertical-align: top;\n",
       "    }\n",
       "\n",
       "    .dataframe thead th {\n",
       "        text-align: right;\n",
       "    }\n",
       "</style>\n",
       "<table border=\"1\" class=\"dataframe\">\n",
       "  <thead>\n",
       "    <tr style=\"text-align: right;\">\n",
       "      <th></th>\n",
       "      <th>Medal</th>\n",
       "    </tr>\n",
       "  </thead>\n",
       "  <tbody>\n",
       "    <tr>\n",
       "      <th>0</th>\n",
       "      <td>Silver</td>\n",
       "    </tr>\n",
       "    <tr>\n",
       "      <th>1</th>\n",
       "      <td>Bronze</td>\n",
       "    </tr>\n",
       "    <tr>\n",
       "      <th>2</th>\n",
       "      <td>Gold</td>\n",
       "    </tr>\n",
       "    <tr>\n",
       "      <th>3</th>\n",
       "      <td>Silver</td>\n",
       "    </tr>\n",
       "    <tr>\n",
       "      <th>4</th>\n",
       "      <td>Gold</td>\n",
       "    </tr>\n",
       "    <tr>\n",
       "      <th>...</th>\n",
       "      <td>...</td>\n",
       "    </tr>\n",
       "    <tr>\n",
       "      <th>56</th>\n",
       "      <td>Gold</td>\n",
       "    </tr>\n",
       "    <tr>\n",
       "      <th>57</th>\n",
       "      <td>Bronze</td>\n",
       "    </tr>\n",
       "    <tr>\n",
       "      <th>58</th>\n",
       "      <td>Gold</td>\n",
       "    </tr>\n",
       "    <tr>\n",
       "      <th>59</th>\n",
       "      <td>Gold</td>\n",
       "    </tr>\n",
       "    <tr>\n",
       "      <th>60</th>\n",
       "      <td>Silver</td>\n",
       "    </tr>\n",
       "  </tbody>\n",
       "</table>\n",
       "<p>61 rows × 1 columns</p>\n",
       "</div>"
      ],
      "text/plain": [
       "     Medal\n",
       "0   Silver\n",
       "1   Bronze\n",
       "2     Gold\n",
       "3   Silver\n",
       "4     Gold\n",
       "..     ...\n",
       "56    Gold\n",
       "57  Bronze\n",
       "58    Gold\n",
       "59    Gold\n",
       "60  Silver\n",
       "\n",
       "[61 rows x 1 columns]"
      ]
     },
     "execution_count": 89,
     "metadata": {},
     "output_type": "execute_result"
    }
   ],
   "source": [
    "CWG.filter(['Medal'])"
   ]
  },
  {
   "cell_type": "code",
   "execution_count": 67,
   "id": "9e97b3cc",
   "metadata": {},
   "outputs": [
    {
     "data": {
      "text/plain": [
       "<bound method Series.count of 0     Silver\n",
       "1     Bronze\n",
       "2       Gold\n",
       "3     Silver\n",
       "4       Gold\n",
       "       ...  \n",
       "56      Gold\n",
       "57    Bronze\n",
       "58      Gold\n",
       "59      Gold\n",
       "60    Silver\n",
       "Name: Medal, Length: 61, dtype: object>"
      ]
     },
     "execution_count": 67,
     "metadata": {},
     "output_type": "execute_result"
    }
   ],
   "source": [
    "CWG['Medal'].count"
   ]
  },
  {
   "cell_type": "markdown",
   "id": "cd883213",
   "metadata": {},
   "source": [
    "# Q3. Total no. of golds, silver and bronze?"
   ]
  },
  {
   "cell_type": "code",
   "execution_count": 77,
   "id": "d7f31c40",
   "metadata": {},
   "outputs": [
    {
     "data": {
      "text/plain": [
       "Bronze    24\n",
       "Gold      21\n",
       "Silver    16\n",
       "Name: Medal, dtype: int64"
      ]
     },
     "execution_count": 77,
     "metadata": {},
     "output_type": "execute_result"
    }
   ],
   "source": [
    "CWG['Medal'].value_counts()"
   ]
  },
  {
   "cell_type": "code",
   "execution_count": 121,
   "id": "c5b932f3",
   "metadata": {},
   "outputs": [
    {
     "data": {
      "text/plain": [
       "<AxesSubplot:>"
      ]
     },
     "execution_count": 121,
     "metadata": {},
     "output_type": "execute_result"
    },
    {
     "data": {
      "image/png": "[encoded data removed]",
      "text/plain": [
       "<Figure size 432x288 with 1 Axes>"
      ]
     },
     "metadata": {
      "needs_background": "light"
     },
     "output_type": "display_data"
    }
   ],
   "source": [
    "CWG['Medal'].value_counts().plot(kind='bar')"
   ]
  },
  {
   "cell_type": "markdown",
   "id": "3c0f5c37",
   "metadata": {},
   "source": [
    "# Q4. Events date and Medals won?"
   ]
  },
  {
   "cell_type": "markdown",
   "id": "486a3bc4",
   "metadata": {},
   "source": [
    "1. On 30 July 2022\n"
   ]
  },
  {
   "cell_type": "code",
   "execution_count": 107,
   "id": "e88a638d",
   "metadata": {},
   "outputs": [
    {
     "data": {
      "text/html": [
       "<div>\n",
       "<style scoped>\n",
       "    .dataframe tbody tr th:only-of-type {\n",
       "        vertical-align: middle;\n",
       "    }\n",
       "\n",
       "    .dataframe tbody tr th {\n",
       "        vertical-align: top;\n",
       "    }\n",
       "\n",
       "    .dataframe thead th {\n",
       "        text-align: right;\n",
       "    }\n",
       "</style>\n",
       "<table border=\"1\" class=\"dataframe\">\n",
       "  <thead>\n",
       "    <tr style=\"text-align: right;\">\n",
       "      <th></th>\n",
       "      <th>Unnamed: 0</th>\n",
       "      <th>Date of Medal Won</th>\n",
       "      <th>Athlete</th>\n",
       "      <th>Medal</th>\n",
       "      <th>Event</th>\n",
       "      <th>Sport</th>\n",
       "    </tr>\n",
       "  </thead>\n",
       "  <tbody>\n",
       "    <tr>\n",
       "      <th>0</th>\n",
       "      <td>1</td>\n",
       "      <td>30-Jul</td>\n",
       "      <td>Sanket Sargar</td>\n",
       "      <td>Silver</td>\n",
       "      <td>Men's 55kg</td>\n",
       "      <td>Weightlifting</td>\n",
       "    </tr>\n",
       "    <tr>\n",
       "      <th>1</th>\n",
       "      <td>2</td>\n",
       "      <td>30-Jul</td>\n",
       "      <td>Gururaja Poojary</td>\n",
       "      <td>Bronze</td>\n",
       "      <td>Men's 61kg</td>\n",
       "      <td>Weightlifting</td>\n",
       "    </tr>\n",
       "    <tr>\n",
       "      <th>2</th>\n",
       "      <td>3</td>\n",
       "      <td>30-Jul</td>\n",
       "      <td>Mirabai Chanbu</td>\n",
       "      <td>Gold</td>\n",
       "      <td>Women's 49kg</td>\n",
       "      <td>Weightlifting</td>\n",
       "    </tr>\n",
       "    <tr>\n",
       "      <th>3</th>\n",
       "      <td>4</td>\n",
       "      <td>30-Jul</td>\n",
       "      <td>Bindyarani Devi</td>\n",
       "      <td>Silver</td>\n",
       "      <td>Women's 55kg</td>\n",
       "      <td>Weightlifting</td>\n",
       "    </tr>\n",
       "  </tbody>\n",
       "</table>\n",
       "</div>"
      ],
      "text/plain": [
       "   Unnamed: 0 Date of Medal Won           Athlete   Medal         Event  \\\n",
       "0           1            30-Jul     Sanket Sargar  Silver    Men's 55kg   \n",
       "1           2            30-Jul  Gururaja Poojary  Bronze    Men's 61kg   \n",
       "2           3            30-Jul    Mirabai Chanbu    Gold  Women's 49kg   \n",
       "3           4            30-Jul   Bindyarani Devi  Silver  Women's 55kg   \n",
       "\n",
       "           Sport  \n",
       "0  Weightlifting  \n",
       "1  Weightlifting  \n",
       "2  Weightlifting  \n",
       "3  Weightlifting  "
      ]
     },
     "execution_count": 107,
     "metadata": {},
     "output_type": "execute_result"
    }
   ],
   "source": [
    "g.get_group('30-Jul')"
   ]
  },
  {
   "cell_type": "code",
   "execution_count": 131,
   "id": "633f2ea7",
   "metadata": {},
   "outputs": [
    {
     "data": {
      "text/plain": [
       "<AxesSubplot:xlabel='Medal'>"
      ]
     },
     "execution_count": 131,
     "metadata": {},
     "output_type": "execute_result"
    },
    {
     "data": {
      "image/png": "[encoded data removed]",
      "text/plain": [
       "<Figure size 432x288 with 1 Axes>"
      ]
     },
     "metadata": {
      "needs_background": "light"
     },
     "output_type": "display_data"
    }
   ],
   "source": [
    "g.get_group('30-Jul').value_counts(['Medal']).plot(kind='bar')"
   ]
  },
  {
   "cell_type": "markdown",
   "id": "7bfcc626",
   "metadata": {},
   "source": [
    "2. On 31 July 2022"
   ]
  },
  {
   "cell_type": "code",
   "execution_count": 109,
   "id": "284b3c4b",
   "metadata": {},
   "outputs": [
    {
     "data": {
      "text/html": [
       "<div>\n",
       "<style scoped>\n",
       "    .dataframe tbody tr th:only-of-type {\n",
       "        vertical-align: middle;\n",
       "    }\n",
       "\n",
       "    .dataframe tbody tr th {\n",
       "        vertical-align: top;\n",
       "    }\n",
       "\n",
       "    .dataframe thead th {\n",
       "        text-align: right;\n",
       "    }\n",
       "</style>\n",
       "<table border=\"1\" class=\"dataframe\">\n",
       "  <thead>\n",
       "    <tr style=\"text-align: right;\">\n",
       "      <th></th>\n",
       "      <th>Unnamed: 0</th>\n",
       "      <th>Date of Medal Won</th>\n",
       "      <th>Athlete</th>\n",
       "      <th>Medal</th>\n",
       "      <th>Event</th>\n",
       "      <th>Sport</th>\n",
       "    </tr>\n",
       "  </thead>\n",
       "  <tbody>\n",
       "    <tr>\n",
       "      <th>4</th>\n",
       "      <td>5</td>\n",
       "      <td>31-Jul</td>\n",
       "      <td>Jeremy Lalrinnunga</td>\n",
       "      <td>Gold</td>\n",
       "      <td>Men's 67kg</td>\n",
       "      <td>Weightlifting</td>\n",
       "    </tr>\n",
       "    <tr>\n",
       "      <th>5</th>\n",
       "      <td>6</td>\n",
       "      <td>31-Jul</td>\n",
       "      <td>Achinta Sheuli</td>\n",
       "      <td>Gold</td>\n",
       "      <td>Men's 73kg</td>\n",
       "      <td>Weightlifting</td>\n",
       "    </tr>\n",
       "  </tbody>\n",
       "</table>\n",
       "</div>"
      ],
      "text/plain": [
       "   Unnamed: 0 Date of Medal Won             Athlete Medal       Event  \\\n",
       "4           5            31-Jul  Jeremy Lalrinnunga  Gold  Men's 67kg   \n",
       "5           6            31-Jul      Achinta Sheuli  Gold  Men's 73kg   \n",
       "\n",
       "           Sport  \n",
       "4  Weightlifting  \n",
       "5  Weightlifting  "
      ]
     },
     "execution_count": 109,
     "metadata": {},
     "output_type": "execute_result"
    }
   ],
   "source": [
    "g.get_group('31-Jul')"
   ]
  },
  {
   "cell_type": "markdown",
   "id": "d31011e8",
   "metadata": {},
   "source": [
    "3. On 1 August 2022"
   ]
  },
  {
   "cell_type": "code",
   "execution_count": 116,
   "id": "bc8e080a",
   "metadata": {},
   "outputs": [
    {
     "data": {
      "text/html": [
       "<div>\n",
       "<style scoped>\n",
       "    .dataframe tbody tr th:only-of-type {\n",
       "        vertical-align: middle;\n",
       "    }\n",
       "\n",
       "    .dataframe tbody tr th {\n",
       "        vertical-align: top;\n",
       "    }\n",
       "\n",
       "    .dataframe thead th {\n",
       "        text-align: right;\n",
       "    }\n",
       "</style>\n",
       "<table border=\"1\" class=\"dataframe\">\n",
       "  <thead>\n",
       "    <tr style=\"text-align: right;\">\n",
       "      <th></th>\n",
       "      <th>Unnamed: 0</th>\n",
       "      <th>Date of Medal Won</th>\n",
       "      <th>Athlete</th>\n",
       "      <th>Medal</th>\n",
       "      <th>Event</th>\n",
       "      <th>Sport</th>\n",
       "    </tr>\n",
       "  </thead>\n",
       "  <tbody>\n",
       "    <tr>\n",
       "      <th>6</th>\n",
       "      <td>7</td>\n",
       "      <td>1-Aug</td>\n",
       "      <td>Sushila Devi Likmabam</td>\n",
       "      <td>Silver</td>\n",
       "      <td>Women's 48kg</td>\n",
       "      <td>Judo</td>\n",
       "    </tr>\n",
       "    <tr>\n",
       "      <th>7</th>\n",
       "      <td>8</td>\n",
       "      <td>1-Aug</td>\n",
       "      <td>Vijay Kumar Yadav</td>\n",
       "      <td>Bronze</td>\n",
       "      <td>Men's 60kg</td>\n",
       "      <td>Judo</td>\n",
       "    </tr>\n",
       "    <tr>\n",
       "      <th>8</th>\n",
       "      <td>9</td>\n",
       "      <td>1-Aug</td>\n",
       "      <td>Harjinder Kaur</td>\n",
       "      <td>Bronze</td>\n",
       "      <td>Women's 71kg</td>\n",
       "      <td>Weightlifting</td>\n",
       "    </tr>\n",
       "  </tbody>\n",
       "</table>\n",
       "</div>"
      ],
      "text/plain": [
       "   Unnamed: 0 Date of Medal Won                Athlete   Medal         Event  \\\n",
       "6           7             1-Aug  Sushila Devi Likmabam  Silver  Women's 48kg   \n",
       "7           8             1-Aug      Vijay Kumar Yadav  Bronze    Men's 60kg   \n",
       "8           9             1-Aug         Harjinder Kaur  Bronze  Women's 71kg   \n",
       "\n",
       "           Sport  \n",
       "6           Judo  \n",
       "7           Judo  \n",
       "8  Weightlifting  "
      ]
     },
     "execution_count": 116,
     "metadata": {},
     "output_type": "execute_result"
    }
   ],
   "source": [
    "g.get_group('1-Aug')"
   ]
  },
  {
   "cell_type": "markdown",
   "id": "6543369b",
   "metadata": {},
   "source": [
    "4. On 2 August 2022"
   ]
  },
  {
   "cell_type": "code",
   "execution_count": 117,
   "id": "06084f11",
   "metadata": {},
   "outputs": [
    {
     "data": {
      "text/html": [
       "<div>\n",
       "<style scoped>\n",
       "    .dataframe tbody tr th:only-of-type {\n",
       "        vertical-align: middle;\n",
       "    }\n",
       "\n",
       "    .dataframe tbody tr th {\n",
       "        vertical-align: top;\n",
       "    }\n",
       "\n",
       "    .dataframe thead th {\n",
       "        text-align: right;\n",
       "    }\n",
       "</style>\n",
       "<table border=\"1\" class=\"dataframe\">\n",
       "  <thead>\n",
       "    <tr style=\"text-align: right;\">\n",
       "      <th></th>\n",
       "      <th>Unnamed: 0</th>\n",
       "      <th>Date of Medal Won</th>\n",
       "      <th>Athlete</th>\n",
       "      <th>Medal</th>\n",
       "      <th>Event</th>\n",
       "      <th>Sport</th>\n",
       "    </tr>\n",
       "  </thead>\n",
       "  <tbody>\n",
       "    <tr>\n",
       "      <th>9</th>\n",
       "      <td>10</td>\n",
       "      <td>2-Aug</td>\n",
       "      <td>Indian women's team</td>\n",
       "      <td>Gold</td>\n",
       "      <td>Women's fours</td>\n",
       "      <td>Lawn bowls</td>\n",
       "    </tr>\n",
       "    <tr>\n",
       "      <th>10</th>\n",
       "      <td>11</td>\n",
       "      <td>2-Aug</td>\n",
       "      <td>Vikas Thakur</td>\n",
       "      <td>Silver</td>\n",
       "      <td>Men's 96kg</td>\n",
       "      <td>Weightlifting</td>\n",
       "    </tr>\n",
       "    <tr>\n",
       "      <th>11</th>\n",
       "      <td>12</td>\n",
       "      <td>2-Aug</td>\n",
       "      <td>Indian men's team</td>\n",
       "      <td>Gold</td>\n",
       "      <td>Men's team</td>\n",
       "      <td>Table Tennis</td>\n",
       "    </tr>\n",
       "    <tr>\n",
       "      <th>12</th>\n",
       "      <td>13</td>\n",
       "      <td>2-Aug</td>\n",
       "      <td>Indian mixed team</td>\n",
       "      <td>Silver</td>\n",
       "      <td>Mixed team</td>\n",
       "      <td>Badminton</td>\n",
       "    </tr>\n",
       "  </tbody>\n",
       "</table>\n",
       "</div>"
      ],
      "text/plain": [
       "    Unnamed: 0 Date of Medal Won              Athlete   Medal          Event  \\\n",
       "9           10             2-Aug  Indian women's team    Gold  Women's fours   \n",
       "10          11             2-Aug         Vikas Thakur  Silver     Men's 96kg   \n",
       "11          12             2-Aug    Indian men's team    Gold     Men's team   \n",
       "12          13             2-Aug    Indian mixed team  Silver     Mixed team   \n",
       "\n",
       "            Sport  \n",
       "9      Lawn bowls  \n",
       "10  Weightlifting  \n",
       "11   Table Tennis  \n",
       "12      Badminton  "
      ]
     },
     "execution_count": 117,
     "metadata": {},
     "output_type": "execute_result"
    }
   ],
   "source": [
    "g.get_group('2-Aug')"
   ]
  },
  {
   "cell_type": "markdown",
   "id": "23b3320f",
   "metadata": {},
   "source": [
    "5. On 3 August 2022"
   ]
  },
  {
   "cell_type": "code",
   "execution_count": 115,
   "id": "d02ff613",
   "metadata": {},
   "outputs": [
    {
     "data": {
      "text/html": [
       "<div>\n",
       "<style scoped>\n",
       "    .dataframe tbody tr th:only-of-type {\n",
       "        vertical-align: middle;\n",
       "    }\n",
       "\n",
       "    .dataframe tbody tr th {\n",
       "        vertical-align: top;\n",
       "    }\n",
       "\n",
       "    .dataframe thead th {\n",
       "        text-align: right;\n",
       "    }\n",
       "</style>\n",
       "<table border=\"1\" class=\"dataframe\">\n",
       "  <thead>\n",
       "    <tr style=\"text-align: right;\">\n",
       "      <th></th>\n",
       "      <th>Unnamed: 0</th>\n",
       "      <th>Date of Medal Won</th>\n",
       "      <th>Athlete</th>\n",
       "      <th>Medal</th>\n",
       "      <th>Event</th>\n",
       "      <th>Sport</th>\n",
       "    </tr>\n",
       "  </thead>\n",
       "  <tbody>\n",
       "    <tr>\n",
       "      <th>13</th>\n",
       "      <td>14</td>\n",
       "      <td>3-Aug</td>\n",
       "      <td>Lovepreet Singh</td>\n",
       "      <td>Bronze</td>\n",
       "      <td>Men's 109kg</td>\n",
       "      <td>Weightlifting</td>\n",
       "    </tr>\n",
       "    <tr>\n",
       "      <th>14</th>\n",
       "      <td>15</td>\n",
       "      <td>3-Aug</td>\n",
       "      <td>Saurav Ghosal</td>\n",
       "      <td>Bronze</td>\n",
       "      <td>Men's 65kg</td>\n",
       "      <td>Squash</td>\n",
       "    </tr>\n",
       "    <tr>\n",
       "      <th>15</th>\n",
       "      <td>16</td>\n",
       "      <td>3-Aug</td>\n",
       "      <td>Tulika Maan</td>\n",
       "      <td>Silver</td>\n",
       "      <td>Women's +78kg</td>\n",
       "      <td>Judo</td>\n",
       "    </tr>\n",
       "    <tr>\n",
       "      <th>16</th>\n",
       "      <td>17</td>\n",
       "      <td>3-Aug</td>\n",
       "      <td>Gurdeep Singh</td>\n",
       "      <td>Bronze</td>\n",
       "      <td>Men's +109kg</td>\n",
       "      <td>Weightlifting</td>\n",
       "    </tr>\n",
       "    <tr>\n",
       "      <th>17</th>\n",
       "      <td>18</td>\n",
       "      <td>3-Aug</td>\n",
       "      <td>Tejaswin Shankar</td>\n",
       "      <td>Bronze</td>\n",
       "      <td>Men's high jump</td>\n",
       "      <td>Athletics</td>\n",
       "    </tr>\n",
       "  </tbody>\n",
       "</table>\n",
       "</div>"
      ],
      "text/plain": [
       "    Unnamed: 0 Date of Medal Won           Athlete   Medal            Event  \\\n",
       "13          14             3-Aug   Lovepreet Singh  Bronze      Men's 109kg   \n",
       "14          15             3-Aug     Saurav Ghosal  Bronze      Men's 65kg    \n",
       "15          16             3-Aug       Tulika Maan  Silver    Women's +78kg   \n",
       "16          17             3-Aug     Gurdeep Singh  Bronze     Men's +109kg   \n",
       "17          18             3-Aug  Tejaswin Shankar  Bronze  Men's high jump   \n",
       "\n",
       "            Sport  \n",
       "13  Weightlifting  \n",
       "14         Squash  \n",
       "15           Judo  \n",
       "16  Weightlifting  \n",
       "17      Athletics  "
      ]
     },
     "execution_count": 115,
     "metadata": {},
     "output_type": "execute_result"
    }
   ],
   "source": [
    "g.get_group('3-Aug')"
   ]
  },
  {
   "cell_type": "markdown",
   "id": "167387fb",
   "metadata": {},
   "source": [
    "6. On 4 August 2022"
   ]
  },
  {
   "cell_type": "code",
   "execution_count": 114,
   "id": "24e9381c",
   "metadata": {},
   "outputs": [
    {
     "data": {
      "text/html": [
       "<div>\n",
       "<style scoped>\n",
       "    .dataframe tbody tr th:only-of-type {\n",
       "        vertical-align: middle;\n",
       "    }\n",
       "\n",
       "    .dataframe tbody tr th {\n",
       "        vertical-align: top;\n",
       "    }\n",
       "\n",
       "    .dataframe thead th {\n",
       "        text-align: right;\n",
       "    }\n",
       "</style>\n",
       "<table border=\"1\" class=\"dataframe\">\n",
       "  <thead>\n",
       "    <tr style=\"text-align: right;\">\n",
       "      <th></th>\n",
       "      <th>Unnamed: 0</th>\n",
       "      <th>Date of Medal Won</th>\n",
       "      <th>Athlete</th>\n",
       "      <th>Medal</th>\n",
       "      <th>Event</th>\n",
       "      <th>Sport</th>\n",
       "    </tr>\n",
       "  </thead>\n",
       "  <tbody>\n",
       "    <tr>\n",
       "      <th>18</th>\n",
       "      <td>19</td>\n",
       "      <td>4-Aug</td>\n",
       "      <td>Murali Sreeshankar</td>\n",
       "      <td>Silver</td>\n",
       "      <td>Men's long jump</td>\n",
       "      <td>Athletics</td>\n",
       "    </tr>\n",
       "    <tr>\n",
       "      <th>19</th>\n",
       "      <td>20</td>\n",
       "      <td>4-Aug</td>\n",
       "      <td>Sudhir</td>\n",
       "      <td>Gold</td>\n",
       "      <td>Men's heavyweight</td>\n",
       "      <td>Para Powerlifting</td>\n",
       "    </tr>\n",
       "  </tbody>\n",
       "</table>\n",
       "</div>"
      ],
      "text/plain": [
       "    Unnamed: 0 Date of Medal Won             Athlete   Medal  \\\n",
       "18          19             4-Aug  Murali Sreeshankar  Silver   \n",
       "19          20             4-Aug              Sudhir    Gold   \n",
       "\n",
       "                Event              Sport  \n",
       "18    Men's long jump          Athletics  \n",
       "19  Men's heavyweight  Para Powerlifting  "
      ]
     },
     "execution_count": 114,
     "metadata": {},
     "output_type": "execute_result"
    }
   ],
   "source": [
    "g.get_group('4-Aug')"
   ]
  },
  {
   "cell_type": "markdown",
   "id": "60488fd3",
   "metadata": {},
   "source": [
    "7. On 5 August 2022"
   ]
  },
  {
   "cell_type": "code",
   "execution_count": 113,
   "id": "e80c9478",
   "metadata": {},
   "outputs": [
    {
     "data": {
      "text/html": [
       "<div>\n",
       "<style scoped>\n",
       "    .dataframe tbody tr th:only-of-type {\n",
       "        vertical-align: middle;\n",
       "    }\n",
       "\n",
       "    .dataframe tbody tr th {\n",
       "        vertical-align: top;\n",
       "    }\n",
       "\n",
       "    .dataframe thead th {\n",
       "        text-align: right;\n",
       "    }\n",
       "</style>\n",
       "<table border=\"1\" class=\"dataframe\">\n",
       "  <thead>\n",
       "    <tr style=\"text-align: right;\">\n",
       "      <th></th>\n",
       "      <th>Unnamed: 0</th>\n",
       "      <th>Date of Medal Won</th>\n",
       "      <th>Athlete</th>\n",
       "      <th>Medal</th>\n",
       "      <th>Event</th>\n",
       "      <th>Sport</th>\n",
       "    </tr>\n",
       "  </thead>\n",
       "  <tbody>\n",
       "    <tr>\n",
       "      <th>20</th>\n",
       "      <td>21</td>\n",
       "      <td>5-Aug</td>\n",
       "      <td>Anshu Malik</td>\n",
       "      <td>Silver</td>\n",
       "      <td>Women's 57kg freestyle</td>\n",
       "      <td>Wrestling</td>\n",
       "    </tr>\n",
       "    <tr>\n",
       "      <th>21</th>\n",
       "      <td>22</td>\n",
       "      <td>5-Aug</td>\n",
       "      <td>Bajrang Punia</td>\n",
       "      <td>Gold</td>\n",
       "      <td>Men's 65kg freestyle</td>\n",
       "      <td>Wrestling</td>\n",
       "    </tr>\n",
       "    <tr>\n",
       "      <th>22</th>\n",
       "      <td>23</td>\n",
       "      <td>5-Aug</td>\n",
       "      <td>Sakshi Malik</td>\n",
       "      <td>Gold</td>\n",
       "      <td>Women's 62kg freestyle</td>\n",
       "      <td>Wrestling</td>\n",
       "    </tr>\n",
       "    <tr>\n",
       "      <th>23</th>\n",
       "      <td>24</td>\n",
       "      <td>5-Aug</td>\n",
       "      <td>Deepak Punia</td>\n",
       "      <td>Gold</td>\n",
       "      <td>Men's 86kg freestyle</td>\n",
       "      <td>Wrestling</td>\n",
       "    </tr>\n",
       "    <tr>\n",
       "      <th>24</th>\n",
       "      <td>25</td>\n",
       "      <td>5-Aug</td>\n",
       "      <td>Divya Kakran</td>\n",
       "      <td>Bronze</td>\n",
       "      <td>Women's 68kg freestyle</td>\n",
       "      <td>Wrestling</td>\n",
       "    </tr>\n",
       "    <tr>\n",
       "      <th>25</th>\n",
       "      <td>26</td>\n",
       "      <td>5-Aug</td>\n",
       "      <td>Mohit Grewal</td>\n",
       "      <td>Bronze</td>\n",
       "      <td>Men's 125kg freestyle</td>\n",
       "      <td>Wrestling</td>\n",
       "    </tr>\n",
       "  </tbody>\n",
       "</table>\n",
       "</div>"
      ],
      "text/plain": [
       "    Unnamed: 0 Date of Medal Won        Athlete   Medal  \\\n",
       "20          21             5-Aug    Anshu Malik  Silver   \n",
       "21          22             5-Aug  Bajrang Punia    Gold   \n",
       "22          23             5-Aug   Sakshi Malik    Gold   \n",
       "23          24             5-Aug   Deepak Punia    Gold   \n",
       "24          25             5-Aug   Divya Kakran  Bronze   \n",
       "25          26             5-Aug   Mohit Grewal  Bronze   \n",
       "\n",
       "                     Event      Sport  \n",
       "20  Women's 57kg freestyle  Wrestling  \n",
       "21    Men's 65kg freestyle  Wrestling  \n",
       "22  Women's 62kg freestyle  Wrestling  \n",
       "23    Men's 86kg freestyle  Wrestling  \n",
       "24  Women's 68kg freestyle  Wrestling  \n",
       "25   Men's 125kg freestyle  Wrestling  "
      ]
     },
     "execution_count": 113,
     "metadata": {},
     "output_type": "execute_result"
    }
   ],
   "source": [
    "g.get_group('5-Aug')"
   ]
  },
  {
   "cell_type": "code",
   "execution_count": 130,
   "id": "133dddb2",
   "metadata": {},
   "outputs": [
    {
     "data": {
      "text/plain": [
       "<AxesSubplot:xlabel='Medal'>"
      ]
     },
     "execution_count": 130,
     "metadata": {},
     "output_type": "execute_result"
    },
    {
     "data": {
      "image/png": "[encoded data removed]",
      "text/plain": [
       "<Figure size 432x288 with 1 Axes>"
      ]
     },
     "metadata": {
      "needs_background": "light"
     },
     "output_type": "display_data"
    }
   ],
   "source": [
    "g.get_group('5-Aug').value_counts(['Medal']).plot(kind='bar')"
   ]
  },
  {
   "cell_type": "markdown",
   "id": "4bef8c46",
   "metadata": {},
   "source": [
    "8. On 6 August 2022"
   ]
  },
  {
   "cell_type": "code",
   "execution_count": 112,
   "id": "29e5f173",
   "metadata": {},
   "outputs": [
    {
     "data": {
      "text/html": [
       "<div>\n",
       "<style scoped>\n",
       "    .dataframe tbody tr th:only-of-type {\n",
       "        vertical-align: middle;\n",
       "    }\n",
       "\n",
       "    .dataframe tbody tr th {\n",
       "        vertical-align: top;\n",
       "    }\n",
       "\n",
       "    .dataframe thead th {\n",
       "        text-align: right;\n",
       "    }\n",
       "</style>\n",
       "<table border=\"1\" class=\"dataframe\">\n",
       "  <thead>\n",
       "    <tr style=\"text-align: right;\">\n",
       "      <th></th>\n",
       "      <th>Unnamed: 0</th>\n",
       "      <th>Date of Medal Won</th>\n",
       "      <th>Athlete</th>\n",
       "      <th>Medal</th>\n",
       "      <th>Event</th>\n",
       "      <th>Sport</th>\n",
       "    </tr>\n",
       "  </thead>\n",
       "  <tbody>\n",
       "    <tr>\n",
       "      <th>26</th>\n",
       "      <td>27</td>\n",
       "      <td>6-Aug</td>\n",
       "      <td>Priyanka Goswami</td>\n",
       "      <td>Silver</td>\n",
       "      <td>Women's 10000m race walk</td>\n",
       "      <td>Athletics</td>\n",
       "    </tr>\n",
       "    <tr>\n",
       "      <th>27</th>\n",
       "      <td>28</td>\n",
       "      <td>6-Aug</td>\n",
       "      <td>Avinash Sable</td>\n",
       "      <td>Silver</td>\n",
       "      <td>Men's 3000m steeplechase</td>\n",
       "      <td>Athletics</td>\n",
       "    </tr>\n",
       "    <tr>\n",
       "      <th>28</th>\n",
       "      <td>29</td>\n",
       "      <td>6-Aug</td>\n",
       "      <td>Indian men's team</td>\n",
       "      <td>Silver</td>\n",
       "      <td>Men's fours</td>\n",
       "      <td>Lawn Bowls</td>\n",
       "    </tr>\n",
       "    <tr>\n",
       "      <th>29</th>\n",
       "      <td>30</td>\n",
       "      <td>6-Aug</td>\n",
       "      <td>Jaismine Lamboria</td>\n",
       "      <td>Bronze</td>\n",
       "      <td>Women's 60kg lightweight</td>\n",
       "      <td>Boxing</td>\n",
       "    </tr>\n",
       "    <tr>\n",
       "      <th>30</th>\n",
       "      <td>31</td>\n",
       "      <td>6-Aug</td>\n",
       "      <td>Pooja Gehlot</td>\n",
       "      <td>Bronze</td>\n",
       "      <td>Women's 50kg freestyle</td>\n",
       "      <td>Wrestling</td>\n",
       "    </tr>\n",
       "    <tr>\n",
       "      <th>31</th>\n",
       "      <td>32</td>\n",
       "      <td>6-Aug</td>\n",
       "      <td>Ravi Kumar Dahiya</td>\n",
       "      <td>Gold</td>\n",
       "      <td>Men's 57kg freestyle</td>\n",
       "      <td>Wrestling</td>\n",
       "    </tr>\n",
       "    <tr>\n",
       "      <th>32</th>\n",
       "      <td>33</td>\n",
       "      <td>6-Aug</td>\n",
       "      <td>Vinesh Phogat</td>\n",
       "      <td>Gold</td>\n",
       "      <td>Women's 53kg freestyle</td>\n",
       "      <td>Wrestling</td>\n",
       "    </tr>\n",
       "    <tr>\n",
       "      <th>33</th>\n",
       "      <td>34</td>\n",
       "      <td>6-Aug</td>\n",
       "      <td>Naveen</td>\n",
       "      <td>Gold</td>\n",
       "      <td>Men's 74kg freestyle</td>\n",
       "      <td>Wrestling</td>\n",
       "    </tr>\n",
       "    <tr>\n",
       "      <th>34</th>\n",
       "      <td>35</td>\n",
       "      <td>6-Aug</td>\n",
       "      <td>Pooja Sihag</td>\n",
       "      <td>Bronze</td>\n",
       "      <td>Women's 76kg freestyle</td>\n",
       "      <td>Wrestling</td>\n",
       "    </tr>\n",
       "    <tr>\n",
       "      <th>35</th>\n",
       "      <td>36</td>\n",
       "      <td>6-Aug</td>\n",
       "      <td>Mohammad Hussamuddin</td>\n",
       "      <td>Bronze</td>\n",
       "      <td>Men's 57kg featherweight</td>\n",
       "      <td>Boxing</td>\n",
       "    </tr>\n",
       "    <tr>\n",
       "      <th>36</th>\n",
       "      <td>37</td>\n",
       "      <td>6-Aug</td>\n",
       "      <td>Deepak Nehra</td>\n",
       "      <td>Bronze</td>\n",
       "      <td>Men's 97kg freestyle</td>\n",
       "      <td>Wrestling</td>\n",
       "    </tr>\n",
       "    <tr>\n",
       "      <th>37</th>\n",
       "      <td>38</td>\n",
       "      <td>6-Aug</td>\n",
       "      <td>Rohit Tokas</td>\n",
       "      <td>Bronze</td>\n",
       "      <td>Men's 67kg welterweight</td>\n",
       "      <td>Boxing</td>\n",
       "    </tr>\n",
       "    <tr>\n",
       "      <th>38</th>\n",
       "      <td>39</td>\n",
       "      <td>6-Aug</td>\n",
       "      <td>Sonalben Patel</td>\n",
       "      <td>Bronze</td>\n",
       "      <td>Women's singles Classes 3-5</td>\n",
       "      <td>Para Table Tennis</td>\n",
       "    </tr>\n",
       "    <tr>\n",
       "      <th>39</th>\n",
       "      <td>40</td>\n",
       "      <td>6-Aug</td>\n",
       "      <td>Bhavina Patel</td>\n",
       "      <td>Bronze</td>\n",
       "      <td>Women's singles classes 3-5</td>\n",
       "      <td>Para Table Tennis</td>\n",
       "    </tr>\n",
       "  </tbody>\n",
       "</table>\n",
       "</div>"
      ],
      "text/plain": [
       "    Unnamed: 0 Date of Medal Won               Athlete   Medal  \\\n",
       "26          27             6-Aug      Priyanka Goswami  Silver   \n",
       "27          28             6-Aug         Avinash Sable  Silver   \n",
       "28          29             6-Aug     Indian men's team  Silver   \n",
       "29          30             6-Aug     Jaismine Lamboria  Bronze   \n",
       "30          31             6-Aug          Pooja Gehlot  Bronze   \n",
       "31          32             6-Aug     Ravi Kumar Dahiya    Gold   \n",
       "32          33             6-Aug         Vinesh Phogat    Gold   \n",
       "33          34             6-Aug                Naveen    Gold   \n",
       "34          35             6-Aug           Pooja Sihag  Bronze   \n",
       "35          36             6-Aug  Mohammad Hussamuddin  Bronze   \n",
       "36          37             6-Aug          Deepak Nehra  Bronze   \n",
       "37          38             6-Aug           Rohit Tokas  Bronze   \n",
       "38          39             6-Aug        Sonalben Patel  Bronze   \n",
       "39          40             6-Aug         Bhavina Patel  Bronze   \n",
       "\n",
       "                          Event              Sport  \n",
       "26     Women's 10000m race walk          Athletics  \n",
       "27     Men's 3000m steeplechase          Athletics  \n",
       "28                  Men's fours         Lawn Bowls  \n",
       "29     Women's 60kg lightweight             Boxing  \n",
       "30       Women's 50kg freestyle          Wrestling  \n",
       "31         Men's 57kg freestyle          Wrestling  \n",
       "32       Women's 53kg freestyle          Wrestling  \n",
       "33         Men's 74kg freestyle          Wrestling  \n",
       "34       Women's 76kg freestyle          Wrestling  \n",
       "35     Men's 57kg featherweight             Boxing  \n",
       "36         Men's 97kg freestyle          Wrestling  \n",
       "37      Men's 67kg welterweight             Boxing  \n",
       "38  Women's singles Classes 3-5  Para Table Tennis  \n",
       "39  Women's singles classes 3-5  Para Table Tennis  "
      ]
     },
     "execution_count": 112,
     "metadata": {},
     "output_type": "execute_result"
    }
   ],
   "source": [
    "g.get_group('6-Aug')"
   ]
  },
  {
   "cell_type": "code",
   "execution_count": 136,
   "id": "084bf421",
   "metadata": {},
   "outputs": [
    {
     "data": {
      "text/plain": [
       "<AxesSubplot:xlabel='Medal'>"
      ]
     },
     "execution_count": 136,
     "metadata": {},
     "output_type": "execute_result"
    },
    {
     "data": {
      "image/png": "[encoded data removed]",
      "text/plain": [
       "<Figure size 432x288 with 1 Axes>"
      ]
     },
     "metadata": {
      "needs_background": "light"
     },
     "output_type": "display_data"
    }
   ],
   "source": [
    "g.get_group('6-Aug').value_counts(['Medal']).plot(kind='bar')"
   ]
  },
  {
   "cell_type": "markdown",
   "id": "a5fff195",
   "metadata": {},
   "source": [
    "9. On 7 August 2022"
   ]
  },
  {
   "cell_type": "code",
   "execution_count": 111,
   "id": "5c9d5155",
   "metadata": {},
   "outputs": [
    {
     "data": {
      "text/html": [
       "<div>\n",
       "<style scoped>\n",
       "    .dataframe tbody tr th:only-of-type {\n",
       "        vertical-align: middle;\n",
       "    }\n",
       "\n",
       "    .dataframe tbody tr th {\n",
       "        vertical-align: top;\n",
       "    }\n",
       "\n",
       "    .dataframe thead th {\n",
       "        text-align: right;\n",
       "    }\n",
       "</style>\n",
       "<table border=\"1\" class=\"dataframe\">\n",
       "  <thead>\n",
       "    <tr style=\"text-align: right;\">\n",
       "      <th></th>\n",
       "      <th>Unnamed: 0</th>\n",
       "      <th>Date of Medal Won</th>\n",
       "      <th>Athlete</th>\n",
       "      <th>Medal</th>\n",
       "      <th>Event</th>\n",
       "      <th>Sport</th>\n",
       "    </tr>\n",
       "  </thead>\n",
       "  <tbody>\n",
       "    <tr>\n",
       "      <th>40</th>\n",
       "      <td>41</td>\n",
       "      <td>7-Aug</td>\n",
       "      <td>Women's hockey team</td>\n",
       "      <td>Bronze</td>\n",
       "      <td>Women's hockey</td>\n",
       "      <td>Hockey</td>\n",
       "    </tr>\n",
       "    <tr>\n",
       "      <th>41</th>\n",
       "      <td>42</td>\n",
       "      <td>7-Aug</td>\n",
       "      <td>Nitu Ghangas</td>\n",
       "      <td>Gold</td>\n",
       "      <td>Women's 48kg minimumweight</td>\n",
       "      <td>Boxing</td>\n",
       "    </tr>\n",
       "    <tr>\n",
       "      <th>42</th>\n",
       "      <td>43</td>\n",
       "      <td>7-Aug</td>\n",
       "      <td>Amit Panghal</td>\n",
       "      <td>Gold</td>\n",
       "      <td>Men's 51kg flyweight</td>\n",
       "      <td>Boxing</td>\n",
       "    </tr>\n",
       "    <tr>\n",
       "      <th>43</th>\n",
       "      <td>44</td>\n",
       "      <td>7-Aug</td>\n",
       "      <td>Eldhose Paul</td>\n",
       "      <td>Gold</td>\n",
       "      <td>Men's triple jump</td>\n",
       "      <td>Athletics</td>\n",
       "    </tr>\n",
       "    <tr>\n",
       "      <th>44</th>\n",
       "      <td>45</td>\n",
       "      <td>7-Aug</td>\n",
       "      <td>Abdulla Aboobacker</td>\n",
       "      <td>Silver</td>\n",
       "      <td>Men's triple jump</td>\n",
       "      <td>Athletics</td>\n",
       "    </tr>\n",
       "    <tr>\n",
       "      <th>45</th>\n",
       "      <td>46</td>\n",
       "      <td>7-Aug</td>\n",
       "      <td>Sandeep Kumar</td>\n",
       "      <td>Bronze</td>\n",
       "      <td>Men's 10000m race walk</td>\n",
       "      <td>Athletics</td>\n",
       "    </tr>\n",
       "    <tr>\n",
       "      <th>46</th>\n",
       "      <td>47</td>\n",
       "      <td>7-Aug</td>\n",
       "      <td>Annu Rani</td>\n",
       "      <td>Bronze</td>\n",
       "      <td>Women's javelin throw</td>\n",
       "      <td>Athletics</td>\n",
       "    </tr>\n",
       "    <tr>\n",
       "      <th>47</th>\n",
       "      <td>48</td>\n",
       "      <td>7-Aug</td>\n",
       "      <td>Nikhat Zareen</td>\n",
       "      <td>Gold</td>\n",
       "      <td>Women's 50kg light flyweight</td>\n",
       "      <td>Boxing</td>\n",
       "    </tr>\n",
       "    <tr>\n",
       "      <th>48</th>\n",
       "      <td>49</td>\n",
       "      <td>7-Aug</td>\n",
       "      <td>Sharath Kamal / G Sathiyan</td>\n",
       "      <td>Silver</td>\n",
       "      <td>Men's doubles</td>\n",
       "      <td>Table Tennis</td>\n",
       "    </tr>\n",
       "    <tr>\n",
       "      <th>49</th>\n",
       "      <td>50</td>\n",
       "      <td>7-Aug</td>\n",
       "      <td>Dipika Pallikal / Saurav Ghosal</td>\n",
       "      <td>Bronze</td>\n",
       "      <td>Mixed doubles</td>\n",
       "      <td>Squash</td>\n",
       "    </tr>\n",
       "    <tr>\n",
       "      <th>50</th>\n",
       "      <td>51</td>\n",
       "      <td>7-Aug</td>\n",
       "      <td>Kidambi Srikanth</td>\n",
       "      <td>Bronze</td>\n",
       "      <td>Men's singles</td>\n",
       "      <td>Badminton</td>\n",
       "    </tr>\n",
       "    <tr>\n",
       "      <th>51</th>\n",
       "      <td>52</td>\n",
       "      <td>7-Aug</td>\n",
       "      <td>Women's cricket team</td>\n",
       "      <td>Silver</td>\n",
       "      <td>Women's T20</td>\n",
       "      <td>Cricket</td>\n",
       "    </tr>\n",
       "    <tr>\n",
       "      <th>52</th>\n",
       "      <td>53</td>\n",
       "      <td>7-Aug</td>\n",
       "      <td>Sharath Kamal / Sreeja Akula</td>\n",
       "      <td>Gold</td>\n",
       "      <td>Mixed doubles</td>\n",
       "      <td>Table Tennis</td>\n",
       "    </tr>\n",
       "    <tr>\n",
       "      <th>53</th>\n",
       "      <td>54</td>\n",
       "      <td>7-Aug</td>\n",
       "      <td>Treesa Jolly / Gayatri Gopichand</td>\n",
       "      <td>Bronze</td>\n",
       "      <td>Women's doubles</td>\n",
       "      <td>Badminton</td>\n",
       "    </tr>\n",
       "    <tr>\n",
       "      <th>54</th>\n",
       "      <td>55</td>\n",
       "      <td>7-Aug</td>\n",
       "      <td>Sagar Ahlawat</td>\n",
       "      <td>Silver</td>\n",
       "      <td>Men's 92+kg super heavyweight</td>\n",
       "      <td>Boxing</td>\n",
       "    </tr>\n",
       "  </tbody>\n",
       "</table>\n",
       "</div>"
      ],
      "text/plain": [
       "    Unnamed: 0 Date of Medal Won                           Athlete   Medal  \\\n",
       "40          41             7-Aug               Women's hockey team  Bronze   \n",
       "41          42             7-Aug                      Nitu Ghangas    Gold   \n",
       "42          43             7-Aug                      Amit Panghal    Gold   \n",
       "43          44             7-Aug                      Eldhose Paul    Gold   \n",
       "44          45             7-Aug                Abdulla Aboobacker  Silver   \n",
       "45          46             7-Aug                     Sandeep Kumar  Bronze   \n",
       "46          47             7-Aug                         Annu Rani  Bronze   \n",
       "47          48             7-Aug                     Nikhat Zareen    Gold   \n",
       "48          49             7-Aug        Sharath Kamal / G Sathiyan  Silver   \n",
       "49          50             7-Aug   Dipika Pallikal / Saurav Ghosal  Bronze   \n",
       "50          51             7-Aug                  Kidambi Srikanth  Bronze   \n",
       "51          52             7-Aug              Women's cricket team  Silver   \n",
       "52          53             7-Aug      Sharath Kamal / Sreeja Akula    Gold   \n",
       "53          54             7-Aug  Treesa Jolly / Gayatri Gopichand  Bronze   \n",
       "54          55             7-Aug                     Sagar Ahlawat  Silver   \n",
       "\n",
       "                            Event         Sport  \n",
       "40                 Women's hockey        Hockey  \n",
       "41     Women's 48kg minimumweight        Boxing  \n",
       "42           Men's 51kg flyweight        Boxing  \n",
       "43              Men's triple jump     Athletics  \n",
       "44              Men's triple jump     Athletics  \n",
       "45         Men's 10000m race walk     Athletics  \n",
       "46          Women's javelin throw     Athletics  \n",
       "47   Women's 50kg light flyweight        Boxing  \n",
       "48                  Men's doubles  Table Tennis  \n",
       "49                  Mixed doubles        Squash  \n",
       "50                  Men's singles     Badminton  \n",
       "51                    Women's T20       Cricket  \n",
       "52                  Mixed doubles  Table Tennis  \n",
       "53                Women's doubles     Badminton  \n",
       "54  Men's 92+kg super heavyweight        Boxing  "
      ]
     },
     "execution_count": 111,
     "metadata": {},
     "output_type": "execute_result"
    }
   ],
   "source": [
    "g.get_group('7-Aug')"
   ]
  },
  {
   "cell_type": "markdown",
   "id": "262c94ba",
   "metadata": {},
   "source": [
    "10. On 8 August 2022"
   ]
  },
  {
   "cell_type": "code",
   "execution_count": 110,
   "id": "439c04e3",
   "metadata": {},
   "outputs": [
    {
     "data": {
      "text/html": [
       "<div>\n",
       "<style scoped>\n",
       "    .dataframe tbody tr th:only-of-type {\n",
       "        vertical-align: middle;\n",
       "    }\n",
       "\n",
       "    .dataframe tbody tr th {\n",
       "        vertical-align: top;\n",
       "    }\n",
       "\n",
       "    .dataframe thead th {\n",
       "        text-align: right;\n",
       "    }\n",
       "</style>\n",
       "<table border=\"1\" class=\"dataframe\">\n",
       "  <thead>\n",
       "    <tr style=\"text-align: right;\">\n",
       "      <th></th>\n",
       "      <th>Unnamed: 0</th>\n",
       "      <th>Date of Medal Won</th>\n",
       "      <th>Athlete</th>\n",
       "      <th>Medal</th>\n",
       "      <th>Event</th>\n",
       "      <th>Sport</th>\n",
       "    </tr>\n",
       "  </thead>\n",
       "  <tbody>\n",
       "    <tr>\n",
       "      <th>55</th>\n",
       "      <td>56</td>\n",
       "      <td>8-Aug</td>\n",
       "      <td>PV Sindhu</td>\n",
       "      <td>Gold</td>\n",
       "      <td>Women's singles</td>\n",
       "      <td>Badminton</td>\n",
       "    </tr>\n",
       "    <tr>\n",
       "      <th>56</th>\n",
       "      <td>57</td>\n",
       "      <td>8-Aug</td>\n",
       "      <td>Lakshya Sen</td>\n",
       "      <td>Gold</td>\n",
       "      <td>Men's singles</td>\n",
       "      <td>Badminton</td>\n",
       "    </tr>\n",
       "    <tr>\n",
       "      <th>57</th>\n",
       "      <td>58</td>\n",
       "      <td>8-Aug</td>\n",
       "      <td>Sathiyan Gnanasekaran</td>\n",
       "      <td>Bronze</td>\n",
       "      <td>Men's singles</td>\n",
       "      <td>Table Tennis</td>\n",
       "    </tr>\n",
       "    <tr>\n",
       "      <th>58</th>\n",
       "      <td>59</td>\n",
       "      <td>8-Aug</td>\n",
       "      <td>Satwiksairaj Rankireddy / Chirag Shetty</td>\n",
       "      <td>Gold</td>\n",
       "      <td>Men's doubles</td>\n",
       "      <td>Badminton</td>\n",
       "    </tr>\n",
       "    <tr>\n",
       "      <th>59</th>\n",
       "      <td>60</td>\n",
       "      <td>8-Aug</td>\n",
       "      <td>Sharath Kamal</td>\n",
       "      <td>Gold</td>\n",
       "      <td>Men's singles</td>\n",
       "      <td>Table Tennis</td>\n",
       "    </tr>\n",
       "    <tr>\n",
       "      <th>60</th>\n",
       "      <td>61</td>\n",
       "      <td>8-Aug</td>\n",
       "      <td>Men's hockey team</td>\n",
       "      <td>Silver</td>\n",
       "      <td>Men's hockey</td>\n",
       "      <td>Hockey</td>\n",
       "    </tr>\n",
       "  </tbody>\n",
       "</table>\n",
       "</div>"
      ],
      "text/plain": [
       "    Unnamed: 0 Date of Medal Won                                  Athlete  \\\n",
       "55          56             8-Aug                                PV Sindhu   \n",
       "56          57             8-Aug                              Lakshya Sen   \n",
       "57          58             8-Aug                    Sathiyan Gnanasekaran   \n",
       "58          59             8-Aug  Satwiksairaj Rankireddy / Chirag Shetty   \n",
       "59          60             8-Aug                            Sharath Kamal   \n",
       "60          61             8-Aug                        Men's hockey team   \n",
       "\n",
       "     Medal            Event         Sport  \n",
       "55    Gold  Women's singles     Badminton  \n",
       "56    Gold    Men's singles     Badminton  \n",
       "57  Bronze    Men's singles  Table Tennis  \n",
       "58    Gold    Men's doubles     Badminton  \n",
       "59    Gold    Men's singles  Table Tennis  \n",
       "60  Silver     Men's hockey        Hockey  "
      ]
     },
     "execution_count": 110,
     "metadata": {},
     "output_type": "execute_result"
    }
   ],
   "source": [
    "g.get_group('8-Aug')"
   ]
  },
  {
   "cell_type": "code",
   "execution_count": 122,
   "id": "fdbc7830",
   "metadata": {},
   "outputs": [
    {
     "data": {
      "text/plain": [
       "<AxesSubplot:>"
      ]
     },
     "execution_count": 122,
     "metadata": {},
     "output_type": "execute_result"
    },
    {
     "data": {
      "image/png": "[encoded data removed]",
      "text/plain": [
       "<Figure size 432x288 with 1 Axes>"
      ]
     },
     "metadata": {
      "needs_background": "light"
     },
     "output_type": "display_data"
    }
   ],
   "source": [
    "CWG['Date of Medal Won'].value_counts().plot(kind='bar')"
   ]
  },
  {
   "cell_type": "markdown",
   "id": "ff0397fa",
   "metadata": {},
   "source": [
    "# Q5. Medals won in Athletics?"
   ]
  },
  {
   "cell_type": "code",
   "execution_count": 163,
   "id": "b60cfae5",
   "metadata": {},
   "outputs": [
    {
     "data": {
      "text/html": [
       "<div>\n",
       "<style scoped>\n",
       "    .dataframe tbody tr th:only-of-type {\n",
       "        vertical-align: middle;\n",
       "    }\n",
       "\n",
       "    .dataframe tbody tr th {\n",
       "        vertical-align: top;\n",
       "    }\n",
       "\n",
       "    .dataframe thead th {\n",
       "        text-align: right;\n",
       "    }\n",
       "</style>\n",
       "<table border=\"1\" class=\"dataframe\">\n",
       "  <thead>\n",
       "    <tr style=\"text-align: right;\">\n",
       "      <th></th>\n",
       "      <th>Unnamed: 0</th>\n",
       "      <th>Date of Medal Won</th>\n",
       "      <th>Athlete</th>\n",
       "      <th>Medal</th>\n",
       "      <th>Event</th>\n",
       "      <th>Sport</th>\n",
       "    </tr>\n",
       "  </thead>\n",
       "  <tbody>\n",
       "    <tr>\n",
       "      <th>17</th>\n",
       "      <td>18</td>\n",
       "      <td>3-Aug</td>\n",
       "      <td>Tejaswin Shankar</td>\n",
       "      <td>Bronze</td>\n",
       "      <td>Men's high jump</td>\n",
       "      <td>Athletics</td>\n",
       "    </tr>\n",
       "    <tr>\n",
       "      <th>18</th>\n",
       "      <td>19</td>\n",
       "      <td>4-Aug</td>\n",
       "      <td>Murali Sreeshankar</td>\n",
       "      <td>Silver</td>\n",
       "      <td>Men's long jump</td>\n",
       "      <td>Athletics</td>\n",
       "    </tr>\n",
       "    <tr>\n",
       "      <th>26</th>\n",
       "      <td>27</td>\n",
       "      <td>6-Aug</td>\n",
       "      <td>Priyanka Goswami</td>\n",
       "      <td>Silver</td>\n",
       "      <td>Women's 10000m race walk</td>\n",
       "      <td>Athletics</td>\n",
       "    </tr>\n",
       "    <tr>\n",
       "      <th>27</th>\n",
       "      <td>28</td>\n",
       "      <td>6-Aug</td>\n",
       "      <td>Avinash Sable</td>\n",
       "      <td>Silver</td>\n",
       "      <td>Men's 3000m steeplechase</td>\n",
       "      <td>Athletics</td>\n",
       "    </tr>\n",
       "    <tr>\n",
       "      <th>43</th>\n",
       "      <td>44</td>\n",
       "      <td>7-Aug</td>\n",
       "      <td>Eldhose Paul</td>\n",
       "      <td>Gold</td>\n",
       "      <td>Men's triple jump</td>\n",
       "      <td>Athletics</td>\n",
       "    </tr>\n",
       "    <tr>\n",
       "      <th>44</th>\n",
       "      <td>45</td>\n",
       "      <td>7-Aug</td>\n",
       "      <td>Abdulla Aboobacker</td>\n",
       "      <td>Silver</td>\n",
       "      <td>Men's triple jump</td>\n",
       "      <td>Athletics</td>\n",
       "    </tr>\n",
       "    <tr>\n",
       "      <th>45</th>\n",
       "      <td>46</td>\n",
       "      <td>7-Aug</td>\n",
       "      <td>Sandeep Kumar</td>\n",
       "      <td>Bronze</td>\n",
       "      <td>Men's 10000m race walk</td>\n",
       "      <td>Athletics</td>\n",
       "    </tr>\n",
       "    <tr>\n",
       "      <th>46</th>\n",
       "      <td>47</td>\n",
       "      <td>7-Aug</td>\n",
       "      <td>Annu Rani</td>\n",
       "      <td>Bronze</td>\n",
       "      <td>Women's javelin throw</td>\n",
       "      <td>Athletics</td>\n",
       "    </tr>\n",
       "  </tbody>\n",
       "</table>\n",
       "</div>"
      ],
      "text/plain": [
       "    Unnamed: 0 Date of Medal Won             Athlete   Medal  \\\n",
       "17          18             3-Aug    Tejaswin Shankar  Bronze   \n",
       "18          19             4-Aug  Murali Sreeshankar  Silver   \n",
       "26          27             6-Aug    Priyanka Goswami  Silver   \n",
       "27          28             6-Aug       Avinash Sable  Silver   \n",
       "43          44             7-Aug        Eldhose Paul    Gold   \n",
       "44          45             7-Aug  Abdulla Aboobacker  Silver   \n",
       "45          46             7-Aug       Sandeep Kumar  Bronze   \n",
       "46          47             7-Aug           Annu Rani  Bronze   \n",
       "\n",
       "                       Event      Sport  \n",
       "17           Men's high jump  Athletics  \n",
       "18           Men's long jump  Athletics  \n",
       "26  Women's 10000m race walk  Athletics  \n",
       "27  Men's 3000m steeplechase  Athletics  \n",
       "43         Men's triple jump  Athletics  \n",
       "44         Men's triple jump  Athletics  \n",
       "45    Men's 10000m race walk  Athletics  \n",
       "46     Women's javelin throw  Athletics  "
      ]
     },
     "execution_count": 163,
     "metadata": {},
     "output_type": "execute_result"
    }
   ],
   "source": [
    "gk = CWG.groupby(['Sport'])\n",
    "gk.get_group('Athletics')"
   ]
  },
  {
   "cell_type": "code",
   "execution_count": 168,
   "id": "b56708bc",
   "metadata": {},
   "outputs": [
    {
     "data": {
      "text/plain": [
       "Silver    4\n",
       "Bronze    3\n",
       "Gold      1\n",
       "Name: Medal, dtype: int64"
      ]
     },
     "execution_count": 168,
     "metadata": {},
     "output_type": "execute_result"
    }
   ],
   "source": [
    "gk.get_group('Athletics')['Medal'].value_counts()"
   ]
  },
  {
   "cell_type": "code",
   "execution_count": 165,
   "id": "8200c3fc",
   "metadata": {},
   "outputs": [
    {
     "data": {
      "text/plain": [
       "<AxesSubplot:xlabel='Medal'>"
      ]
     },
     "execution_count": 165,
     "metadata": {},
     "output_type": "execute_result"
    },
    {
     "data": {
      "image/png": "[encoded data removed]",
      "text/plain": [
       "<Figure size 432x288 with 1 Axes>"
      ]
     },
     "metadata": {
      "needs_background": "light"
     },
     "output_type": "display_data"
    }
   ],
   "source": [
    "gk.get_group('Athletics').value_counts(['Medal']).plot(kind='bar')"
   ]
  },
  {
   "cell_type": "markdown",
   "id": "a8d304f3",
   "metadata": {},
   "source": [
    "# Q6.Medals won in lawn bowls?"
   ]
  },
  {
   "cell_type": "code",
   "execution_count": 171,
   "id": "43ba93d3",
   "metadata": {},
   "outputs": [
    {
     "data": {
      "text/html": [
       "<div>\n",
       "<style scoped>\n",
       "    .dataframe tbody tr th:only-of-type {\n",
       "        vertical-align: middle;\n",
       "    }\n",
       "\n",
       "    .dataframe tbody tr th {\n",
       "        vertical-align: top;\n",
       "    }\n",
       "\n",
       "    .dataframe thead th {\n",
       "        text-align: right;\n",
       "    }\n",
       "</style>\n",
       "<table border=\"1\" class=\"dataframe\">\n",
       "  <thead>\n",
       "    <tr style=\"text-align: right;\">\n",
       "      <th></th>\n",
       "      <th>Unnamed: 0</th>\n",
       "      <th>Date of Medal Won</th>\n",
       "      <th>Athlete</th>\n",
       "      <th>Medal</th>\n",
       "      <th>Event</th>\n",
       "      <th>Sport</th>\n",
       "    </tr>\n",
       "  </thead>\n",
       "  <tbody>\n",
       "    <tr>\n",
       "      <th>9</th>\n",
       "      <td>10</td>\n",
       "      <td>2-Aug</td>\n",
       "      <td>Indian women's team</td>\n",
       "      <td>Gold</td>\n",
       "      <td>Women's fours</td>\n",
       "      <td>Lawn bowls</td>\n",
       "    </tr>\n",
       "  </tbody>\n",
       "</table>\n",
       "</div>"
      ],
      "text/plain": [
       "   Unnamed: 0 Date of Medal Won              Athlete Medal          Event  \\\n",
       "9          10             2-Aug  Indian women's team  Gold  Women's fours   \n",
       "\n",
       "        Sport  \n",
       "9  Lawn bowls  "
      ]
     },
     "execution_count": 171,
     "metadata": {},
     "output_type": "execute_result"
    }
   ],
   "source": [
    "gk.get_group('Lawn bowls')"
   ]
  },
  {
   "cell_type": "code",
   "execution_count": 172,
   "id": "2980f21e",
   "metadata": {},
   "outputs": [
    {
     "data": {
      "text/plain": [
       "Gold    1\n",
       "Name: Medal, dtype: int64"
      ]
     },
     "execution_count": 172,
     "metadata": {},
     "output_type": "execute_result"
    }
   ],
   "source": [
    "gk.get_group('Lawn bowls')['Medal'].value_counts()"
   ]
  },
  {
   "cell_type": "markdown",
   "id": "e9552243",
   "metadata": {},
   "source": [
    "# Q7.Medals won in Badminton?"
   ]
  },
  {
   "cell_type": "code",
   "execution_count": 174,
   "id": "360f4f62",
   "metadata": {},
   "outputs": [
    {
     "data": {
      "text/html": [
       "<div>\n",
       "<style scoped>\n",
       "    .dataframe tbody tr th:only-of-type {\n",
       "        vertical-align: middle;\n",
       "    }\n",
       "\n",
       "    .dataframe tbody tr th {\n",
       "        vertical-align: top;\n",
       "    }\n",
       "\n",
       "    .dataframe thead th {\n",
       "        text-align: right;\n",
       "    }\n",
       "</style>\n",
       "<table border=\"1\" class=\"dataframe\">\n",
       "  <thead>\n",
       "    <tr style=\"text-align: right;\">\n",
       "      <th></th>\n",
       "      <th>Unnamed: 0</th>\n",
       "      <th>Date of Medal Won</th>\n",
       "      <th>Athlete</th>\n",
       "      <th>Medal</th>\n",
       "      <th>Event</th>\n",
       "      <th>Sport</th>\n",
       "    </tr>\n",
       "  </thead>\n",
       "  <tbody>\n",
       "    <tr>\n",
       "      <th>12</th>\n",
       "      <td>13</td>\n",
       "      <td>2-Aug</td>\n",
       "      <td>Indian mixed team</td>\n",
       "      <td>Silver</td>\n",
       "      <td>Mixed team</td>\n",
       "      <td>Badminton</td>\n",
       "    </tr>\n",
       "    <tr>\n",
       "      <th>50</th>\n",
       "      <td>51</td>\n",
       "      <td>7-Aug</td>\n",
       "      <td>Kidambi Srikanth</td>\n",
       "      <td>Bronze</td>\n",
       "      <td>Men's singles</td>\n",
       "      <td>Badminton</td>\n",
       "    </tr>\n",
       "    <tr>\n",
       "      <th>53</th>\n",
       "      <td>54</td>\n",
       "      <td>7-Aug</td>\n",
       "      <td>Treesa Jolly / Gayatri Gopichand</td>\n",
       "      <td>Bronze</td>\n",
       "      <td>Women's doubles</td>\n",
       "      <td>Badminton</td>\n",
       "    </tr>\n",
       "    <tr>\n",
       "      <th>55</th>\n",
       "      <td>56</td>\n",
       "      <td>8-Aug</td>\n",
       "      <td>PV Sindhu</td>\n",
       "      <td>Gold</td>\n",
       "      <td>Women's singles</td>\n",
       "      <td>Badminton</td>\n",
       "    </tr>\n",
       "    <tr>\n",
       "      <th>56</th>\n",
       "      <td>57</td>\n",
       "      <td>8-Aug</td>\n",
       "      <td>Lakshya Sen</td>\n",
       "      <td>Gold</td>\n",
       "      <td>Men's singles</td>\n",
       "      <td>Badminton</td>\n",
       "    </tr>\n",
       "    <tr>\n",
       "      <th>58</th>\n",
       "      <td>59</td>\n",
       "      <td>8-Aug</td>\n",
       "      <td>Satwiksairaj Rankireddy / Chirag Shetty</td>\n",
       "      <td>Gold</td>\n",
       "      <td>Men's doubles</td>\n",
       "      <td>Badminton</td>\n",
       "    </tr>\n",
       "  </tbody>\n",
       "</table>\n",
       "</div>"
      ],
      "text/plain": [
       "    Unnamed: 0 Date of Medal Won                                  Athlete  \\\n",
       "12          13             2-Aug                        Indian mixed team   \n",
       "50          51             7-Aug                         Kidambi Srikanth   \n",
       "53          54             7-Aug         Treesa Jolly / Gayatri Gopichand   \n",
       "55          56             8-Aug                                PV Sindhu   \n",
       "56          57             8-Aug                              Lakshya Sen   \n",
       "58          59             8-Aug  Satwiksairaj Rankireddy / Chirag Shetty   \n",
       "\n",
       "     Medal            Event      Sport  \n",
       "12  Silver       Mixed team  Badminton  \n",
       "50  Bronze    Men's singles  Badminton  \n",
       "53  Bronze  Women's doubles  Badminton  \n",
       "55    Gold  Women's singles  Badminton  \n",
       "56    Gold    Men's singles  Badminton  \n",
       "58    Gold    Men's doubles  Badminton  "
      ]
     },
     "execution_count": 174,
     "metadata": {},
     "output_type": "execute_result"
    }
   ],
   "source": [
    "gk.get_group('Badminton')"
   ]
  },
  {
   "cell_type": "code",
   "execution_count": 177,
   "id": "50cfa6c2",
   "metadata": {},
   "outputs": [
    {
     "data": {
      "text/plain": [
       "Gold      3\n",
       "Bronze    2\n",
       "Silver    1\n",
       "Name: Medal, dtype: int64"
      ]
     },
     "execution_count": 177,
     "metadata": {},
     "output_type": "execute_result"
    }
   ],
   "source": [
    "gk.get_group('Badminton')['Medal'].value_counts()"
   ]
  },
  {
   "cell_type": "code",
   "execution_count": 188,
   "id": "0e3ed001",
   "metadata": {},
   "outputs": [
    {
     "data": {
      "text/plain": [
       "<AxesSubplot:>"
      ]
     },
     "execution_count": 188,
     "metadata": {},
     "output_type": "execute_result"
    },
    {
     "data": {
      "image/png": "[encoded data removed]",
      "text/plain": [
       "<Figure size 432x288 with 1 Axes>"
      ]
     },
     "metadata": {
      "needs_background": "light"
     },
     "output_type": "display_data"
    }
   ],
   "source": [
    "gk.get_group('Badminton')['Medal'].value_counts().plot(kind='bar')"
   ]
  },
  {
   "cell_type": "markdown",
   "id": "c5b6dc7f",
   "metadata": {},
   "source": [
    "# Q8.Medals won in Table Tennis?"
   ]
  },
  {
   "cell_type": "code",
   "execution_count": 175,
   "id": "6fe36bc4",
   "metadata": {},
   "outputs": [
    {
     "data": {
      "text/html": [
       "<div>\n",
       "<style scoped>\n",
       "    .dataframe tbody tr th:only-of-type {\n",
       "        vertical-align: middle;\n",
       "    }\n",
       "\n",
       "    .dataframe tbody tr th {\n",
       "        vertical-align: top;\n",
       "    }\n",
       "\n",
       "    .dataframe thead th {\n",
       "        text-align: right;\n",
       "    }\n",
       "</style>\n",
       "<table border=\"1\" class=\"dataframe\">\n",
       "  <thead>\n",
       "    <tr style=\"text-align: right;\">\n",
       "      <th></th>\n",
       "      <th>Unnamed: 0</th>\n",
       "      <th>Date of Medal Won</th>\n",
       "      <th>Athlete</th>\n",
       "      <th>Medal</th>\n",
       "      <th>Event</th>\n",
       "      <th>Sport</th>\n",
       "    </tr>\n",
       "  </thead>\n",
       "  <tbody>\n",
       "    <tr>\n",
       "      <th>11</th>\n",
       "      <td>12</td>\n",
       "      <td>2-Aug</td>\n",
       "      <td>Indian men's team</td>\n",
       "      <td>Gold</td>\n",
       "      <td>Men's team</td>\n",
       "      <td>Table Tennis</td>\n",
       "    </tr>\n",
       "    <tr>\n",
       "      <th>48</th>\n",
       "      <td>49</td>\n",
       "      <td>7-Aug</td>\n",
       "      <td>Sharath Kamal / G Sathiyan</td>\n",
       "      <td>Silver</td>\n",
       "      <td>Men's doubles</td>\n",
       "      <td>Table Tennis</td>\n",
       "    </tr>\n",
       "    <tr>\n",
       "      <th>52</th>\n",
       "      <td>53</td>\n",
       "      <td>7-Aug</td>\n",
       "      <td>Sharath Kamal / Sreeja Akula</td>\n",
       "      <td>Gold</td>\n",
       "      <td>Mixed doubles</td>\n",
       "      <td>Table Tennis</td>\n",
       "    </tr>\n",
       "    <tr>\n",
       "      <th>57</th>\n",
       "      <td>58</td>\n",
       "      <td>8-Aug</td>\n",
       "      <td>Sathiyan Gnanasekaran</td>\n",
       "      <td>Bronze</td>\n",
       "      <td>Men's singles</td>\n",
       "      <td>Table Tennis</td>\n",
       "    </tr>\n",
       "    <tr>\n",
       "      <th>59</th>\n",
       "      <td>60</td>\n",
       "      <td>8-Aug</td>\n",
       "      <td>Sharath Kamal</td>\n",
       "      <td>Gold</td>\n",
       "      <td>Men's singles</td>\n",
       "      <td>Table Tennis</td>\n",
       "    </tr>\n",
       "  </tbody>\n",
       "</table>\n",
       "</div>"
      ],
      "text/plain": [
       "    Unnamed: 0 Date of Medal Won                       Athlete   Medal  \\\n",
       "11          12             2-Aug             Indian men's team    Gold   \n",
       "48          49             7-Aug    Sharath Kamal / G Sathiyan  Silver   \n",
       "52          53             7-Aug  Sharath Kamal / Sreeja Akula    Gold   \n",
       "57          58             8-Aug         Sathiyan Gnanasekaran  Bronze   \n",
       "59          60             8-Aug                 Sharath Kamal    Gold   \n",
       "\n",
       "            Event         Sport  \n",
       "11     Men's team  Table Tennis  \n",
       "48  Men's doubles  Table Tennis  \n",
       "52  Mixed doubles  Table Tennis  \n",
       "57  Men's singles  Table Tennis  \n",
       "59  Men's singles  Table Tennis  "
      ]
     },
     "execution_count": 175,
     "metadata": {},
     "output_type": "execute_result"
    }
   ],
   "source": [
    "gk.get_group('Table Tennis')"
   ]
  },
  {
   "cell_type": "code",
   "execution_count": 176,
   "id": "a6f79a84",
   "metadata": {},
   "outputs": [
    {
     "data": {
      "text/plain": [
       "Gold      3\n",
       "Silver    1\n",
       "Bronze    1\n",
       "Name: Medal, dtype: int64"
      ]
     },
     "execution_count": 176,
     "metadata": {},
     "output_type": "execute_result"
    }
   ],
   "source": [
    "gk.get_group('Table Tennis')['Medal'].value_counts()"
   ]
  },
  {
   "cell_type": "markdown",
   "id": "dd65cd88",
   "metadata": {},
   "source": [
    "# Q9.Medals won in Hockey?"
   ]
  },
  {
   "cell_type": "code",
   "execution_count": 187,
   "id": "2e756ccb",
   "metadata": {},
   "outputs": [
    {
     "data": {
      "text/html": [
       "<div>\n",
       "<style scoped>\n",
       "    .dataframe tbody tr th:only-of-type {\n",
       "        vertical-align: middle;\n",
       "    }\n",
       "\n",
       "    .dataframe tbody tr th {\n",
       "        vertical-align: top;\n",
       "    }\n",
       "\n",
       "    .dataframe thead th {\n",
       "        text-align: right;\n",
       "    }\n",
       "</style>\n",
       "<table border=\"1\" class=\"dataframe\">\n",
       "  <thead>\n",
       "    <tr style=\"text-align: right;\">\n",
       "      <th></th>\n",
       "      <th>Unnamed: 0</th>\n",
       "      <th>Date of Medal Won</th>\n",
       "      <th>Athlete</th>\n",
       "      <th>Medal</th>\n",
       "      <th>Event</th>\n",
       "      <th>Sport</th>\n",
       "    </tr>\n",
       "  </thead>\n",
       "  <tbody>\n",
       "    <tr>\n",
       "      <th>40</th>\n",
       "      <td>41</td>\n",
       "      <td>7-Aug</td>\n",
       "      <td>Women's hockey team</td>\n",
       "      <td>Bronze</td>\n",
       "      <td>Women's hockey</td>\n",
       "      <td>Hockey</td>\n",
       "    </tr>\n",
       "    <tr>\n",
       "      <th>60</th>\n",
       "      <td>61</td>\n",
       "      <td>8-Aug</td>\n",
       "      <td>Men's hockey team</td>\n",
       "      <td>Silver</td>\n",
       "      <td>Men's hockey</td>\n",
       "      <td>Hockey</td>\n",
       "    </tr>\n",
       "  </tbody>\n",
       "</table>\n",
       "</div>"
      ],
      "text/plain": [
       "    Unnamed: 0 Date of Medal Won              Athlete   Medal           Event  \\\n",
       "40          41             7-Aug  Women's hockey team  Bronze  Women's hockey   \n",
       "60          61             8-Aug    Men's hockey team  Silver    Men's hockey   \n",
       "\n",
       "     Sport  \n",
       "40  Hockey  \n",
       "60  Hockey  "
      ]
     },
     "execution_count": 187,
     "metadata": {},
     "output_type": "execute_result"
    }
   ],
   "source": [
    "gk.get_group('Hockey')"
   ]
  },
  {
   "cell_type": "code",
   "execution_count": 186,
   "id": "07f1105f",
   "metadata": {},
   "outputs": [
    {
     "data": {
      "text/plain": [
       "Bronze    1\n",
       "Silver    1\n",
       "Name: Medal, dtype: int64"
      ]
     },
     "execution_count": 186,
     "metadata": {},
     "output_type": "execute_result"
    }
   ],
   "source": [
    "gk.get_group('Hockey')['Medal'].value_counts()"
   ]
  },
  {
   "cell_type": "markdown",
   "id": "66a2963b",
   "metadata": {},
   "source": [
    "# Q10.Medals won in Boxing?"
   ]
  },
  {
   "cell_type": "code",
   "execution_count": 185,
   "id": "cc710eaa",
   "metadata": {},
   "outputs": [
    {
     "data": {
      "text/html": [
       "<div>\n",
       "<style scoped>\n",
       "    .dataframe tbody tr th:only-of-type {\n",
       "        vertical-align: middle;\n",
       "    }\n",
       "\n",
       "    .dataframe tbody tr th {\n",
       "        vertical-align: top;\n",
       "    }\n",
       "\n",
       "    .dataframe thead th {\n",
       "        text-align: right;\n",
       "    }\n",
       "</style>\n",
       "<table border=\"1\" class=\"dataframe\">\n",
       "  <thead>\n",
       "    <tr style=\"text-align: right;\">\n",
       "      <th></th>\n",
       "      <th>Unnamed: 0</th>\n",
       "      <th>Date of Medal Won</th>\n",
       "      <th>Athlete</th>\n",
       "      <th>Medal</th>\n",
       "      <th>Event</th>\n",
       "      <th>Sport</th>\n",
       "    </tr>\n",
       "  </thead>\n",
       "  <tbody>\n",
       "    <tr>\n",
       "      <th>29</th>\n",
       "      <td>30</td>\n",
       "      <td>6-Aug</td>\n",
       "      <td>Jaismine Lamboria</td>\n",
       "      <td>Bronze</td>\n",
       "      <td>Women's 60kg lightweight</td>\n",
       "      <td>Boxing</td>\n",
       "    </tr>\n",
       "    <tr>\n",
       "      <th>35</th>\n",
       "      <td>36</td>\n",
       "      <td>6-Aug</td>\n",
       "      <td>Mohammad Hussamuddin</td>\n",
       "      <td>Bronze</td>\n",
       "      <td>Men's 57kg featherweight</td>\n",
       "      <td>Boxing</td>\n",
       "    </tr>\n",
       "    <tr>\n",
       "      <th>37</th>\n",
       "      <td>38</td>\n",
       "      <td>6-Aug</td>\n",
       "      <td>Rohit Tokas</td>\n",
       "      <td>Bronze</td>\n",
       "      <td>Men's 67kg welterweight</td>\n",
       "      <td>Boxing</td>\n",
       "    </tr>\n",
       "    <tr>\n",
       "      <th>41</th>\n",
       "      <td>42</td>\n",
       "      <td>7-Aug</td>\n",
       "      <td>Nitu Ghangas</td>\n",
       "      <td>Gold</td>\n",
       "      <td>Women's 48kg minimumweight</td>\n",
       "      <td>Boxing</td>\n",
       "    </tr>\n",
       "    <tr>\n",
       "      <th>42</th>\n",
       "      <td>43</td>\n",
       "      <td>7-Aug</td>\n",
       "      <td>Amit Panghal</td>\n",
       "      <td>Gold</td>\n",
       "      <td>Men's 51kg flyweight</td>\n",
       "      <td>Boxing</td>\n",
       "    </tr>\n",
       "    <tr>\n",
       "      <th>47</th>\n",
       "      <td>48</td>\n",
       "      <td>7-Aug</td>\n",
       "      <td>Nikhat Zareen</td>\n",
       "      <td>Gold</td>\n",
       "      <td>Women's 50kg light flyweight</td>\n",
       "      <td>Boxing</td>\n",
       "    </tr>\n",
       "    <tr>\n",
       "      <th>54</th>\n",
       "      <td>55</td>\n",
       "      <td>7-Aug</td>\n",
       "      <td>Sagar Ahlawat</td>\n",
       "      <td>Silver</td>\n",
       "      <td>Men's 92+kg super heavyweight</td>\n",
       "      <td>Boxing</td>\n",
       "    </tr>\n",
       "  </tbody>\n",
       "</table>\n",
       "</div>"
      ],
      "text/plain": [
       "    Unnamed: 0 Date of Medal Won               Athlete   Medal  \\\n",
       "29          30             6-Aug     Jaismine Lamboria  Bronze   \n",
       "35          36             6-Aug  Mohammad Hussamuddin  Bronze   \n",
       "37          38             6-Aug           Rohit Tokas  Bronze   \n",
       "41          42             7-Aug          Nitu Ghangas    Gold   \n",
       "42          43             7-Aug          Amit Panghal    Gold   \n",
       "47          48             7-Aug         Nikhat Zareen    Gold   \n",
       "54          55             7-Aug         Sagar Ahlawat  Silver   \n",
       "\n",
       "                            Event   Sport  \n",
       "29       Women's 60kg lightweight  Boxing  \n",
       "35       Men's 57kg featherweight  Boxing  \n",
       "37        Men's 67kg welterweight  Boxing  \n",
       "41     Women's 48kg minimumweight  Boxing  \n",
       "42           Men's 51kg flyweight  Boxing  \n",
       "47   Women's 50kg light flyweight  Boxing  \n",
       "54  Men's 92+kg super heavyweight  Boxing  "
      ]
     },
     "execution_count": 185,
     "metadata": {},
     "output_type": "execute_result"
    }
   ],
   "source": [
    "gk.get_group('Boxing')"
   ]
  },
  {
   "cell_type": "code",
   "execution_count": 184,
   "id": "85a4316c",
   "metadata": {},
   "outputs": [
    {
     "data": {
      "text/plain": [
       "Bronze    3\n",
       "Gold      3\n",
       "Silver    1\n",
       "Name: Medal, dtype: int64"
      ]
     },
     "execution_count": 184,
     "metadata": {},
     "output_type": "execute_result"
    }
   ],
   "source": [
    "gk.get_group('Boxing')['Medal'].value_counts()"
   ]
  },
  {
   "cell_type": "markdown",
   "id": "453f984f",
   "metadata": {},
   "source": [
    "# Q11.Medals won in Squash?"
   ]
  },
  {
   "cell_type": "code",
   "execution_count": 183,
   "id": "2cbb632c",
   "metadata": {},
   "outputs": [
    {
     "data": {
      "text/html": [
       "<div>\n",
       "<style scoped>\n",
       "    .dataframe tbody tr th:only-of-type {\n",
       "        vertical-align: middle;\n",
       "    }\n",
       "\n",
       "    .dataframe tbody tr th {\n",
       "        vertical-align: top;\n",
       "    }\n",
       "\n",
       "    .dataframe thead th {\n",
       "        text-align: right;\n",
       "    }\n",
       "</style>\n",
       "<table border=\"1\" class=\"dataframe\">\n",
       "  <thead>\n",
       "    <tr style=\"text-align: right;\">\n",
       "      <th></th>\n",
       "      <th>Unnamed: 0</th>\n",
       "      <th>Date of Medal Won</th>\n",
       "      <th>Athlete</th>\n",
       "      <th>Medal</th>\n",
       "      <th>Event</th>\n",
       "      <th>Sport</th>\n",
       "    </tr>\n",
       "  </thead>\n",
       "  <tbody>\n",
       "    <tr>\n",
       "      <th>14</th>\n",
       "      <td>15</td>\n",
       "      <td>3-Aug</td>\n",
       "      <td>Saurav Ghosal</td>\n",
       "      <td>Bronze</td>\n",
       "      <td>Men's 65kg</td>\n",
       "      <td>Squash</td>\n",
       "    </tr>\n",
       "    <tr>\n",
       "      <th>49</th>\n",
       "      <td>50</td>\n",
       "      <td>7-Aug</td>\n",
       "      <td>Dipika Pallikal / Saurav Ghosal</td>\n",
       "      <td>Bronze</td>\n",
       "      <td>Mixed doubles</td>\n",
       "      <td>Squash</td>\n",
       "    </tr>\n",
       "  </tbody>\n",
       "</table>\n",
       "</div>"
      ],
      "text/plain": [
       "    Unnamed: 0 Date of Medal Won                          Athlete   Medal  \\\n",
       "14          15             3-Aug                    Saurav Ghosal  Bronze   \n",
       "49          50             7-Aug  Dipika Pallikal / Saurav Ghosal  Bronze   \n",
       "\n",
       "            Event   Sport  \n",
       "14    Men's 65kg   Squash  \n",
       "49  Mixed doubles  Squash  "
      ]
     },
     "execution_count": 183,
     "metadata": {},
     "output_type": "execute_result"
    }
   ],
   "source": [
    "gk.get_group('Squash')"
   ]
  },
  {
   "cell_type": "code",
   "execution_count": 182,
   "id": "f3cd473a",
   "metadata": {},
   "outputs": [
    {
     "data": {
      "text/plain": [
       "Bronze    2\n",
       "Name: Medal, dtype: int64"
      ]
     },
     "execution_count": 182,
     "metadata": {},
     "output_type": "execute_result"
    }
   ],
   "source": [
    "gk.get_group('Squash')['Medal'].value_counts()"
   ]
  },
  {
   "cell_type": "markdown",
   "id": "e4ddbaa4",
   "metadata": {},
   "source": [
    "# Q12.Medals won in Wrestling?"
   ]
  },
  {
   "cell_type": "code",
   "execution_count": 181,
   "id": "ac3f076e",
   "metadata": {},
   "outputs": [
    {
     "data": {
      "text/html": [
       "<div>\n",
       "<style scoped>\n",
       "    .dataframe tbody tr th:only-of-type {\n",
       "        vertical-align: middle;\n",
       "    }\n",
       "\n",
       "    .dataframe tbody tr th {\n",
       "        vertical-align: top;\n",
       "    }\n",
       "\n",
       "    .dataframe thead th {\n",
       "        text-align: right;\n",
       "    }\n",
       "</style>\n",
       "<table border=\"1\" class=\"dataframe\">\n",
       "  <thead>\n",
       "    <tr style=\"text-align: right;\">\n",
       "      <th></th>\n",
       "      <th>Unnamed: 0</th>\n",
       "      <th>Date of Medal Won</th>\n",
       "      <th>Athlete</th>\n",
       "      <th>Medal</th>\n",
       "      <th>Event</th>\n",
       "      <th>Sport</th>\n",
       "    </tr>\n",
       "  </thead>\n",
       "  <tbody>\n",
       "    <tr>\n",
       "      <th>20</th>\n",
       "      <td>21</td>\n",
       "      <td>5-Aug</td>\n",
       "      <td>Anshu Malik</td>\n",
       "      <td>Silver</td>\n",
       "      <td>Women's 57kg freestyle</td>\n",
       "      <td>Wrestling</td>\n",
       "    </tr>\n",
       "    <tr>\n",
       "      <th>21</th>\n",
       "      <td>22</td>\n",
       "      <td>5-Aug</td>\n",
       "      <td>Bajrang Punia</td>\n",
       "      <td>Gold</td>\n",
       "      <td>Men's 65kg freestyle</td>\n",
       "      <td>Wrestling</td>\n",
       "    </tr>\n",
       "    <tr>\n",
       "      <th>22</th>\n",
       "      <td>23</td>\n",
       "      <td>5-Aug</td>\n",
       "      <td>Sakshi Malik</td>\n",
       "      <td>Gold</td>\n",
       "      <td>Women's 62kg freestyle</td>\n",
       "      <td>Wrestling</td>\n",
       "    </tr>\n",
       "    <tr>\n",
       "      <th>23</th>\n",
       "      <td>24</td>\n",
       "      <td>5-Aug</td>\n",
       "      <td>Deepak Punia</td>\n",
       "      <td>Gold</td>\n",
       "      <td>Men's 86kg freestyle</td>\n",
       "      <td>Wrestling</td>\n",
       "    </tr>\n",
       "    <tr>\n",
       "      <th>24</th>\n",
       "      <td>25</td>\n",
       "      <td>5-Aug</td>\n",
       "      <td>Divya Kakran</td>\n",
       "      <td>Bronze</td>\n",
       "      <td>Women's 68kg freestyle</td>\n",
       "      <td>Wrestling</td>\n",
       "    </tr>\n",
       "    <tr>\n",
       "      <th>25</th>\n",
       "      <td>26</td>\n",
       "      <td>5-Aug</td>\n",
       "      <td>Mohit Grewal</td>\n",
       "      <td>Bronze</td>\n",
       "      <td>Men's 125kg freestyle</td>\n",
       "      <td>Wrestling</td>\n",
       "    </tr>\n",
       "    <tr>\n",
       "      <th>30</th>\n",
       "      <td>31</td>\n",
       "      <td>6-Aug</td>\n",
       "      <td>Pooja Gehlot</td>\n",
       "      <td>Bronze</td>\n",
       "      <td>Women's 50kg freestyle</td>\n",
       "      <td>Wrestling</td>\n",
       "    </tr>\n",
       "    <tr>\n",
       "      <th>31</th>\n",
       "      <td>32</td>\n",
       "      <td>6-Aug</td>\n",
       "      <td>Ravi Kumar Dahiya</td>\n",
       "      <td>Gold</td>\n",
       "      <td>Men's 57kg freestyle</td>\n",
       "      <td>Wrestling</td>\n",
       "    </tr>\n",
       "    <tr>\n",
       "      <th>32</th>\n",
       "      <td>33</td>\n",
       "      <td>6-Aug</td>\n",
       "      <td>Vinesh Phogat</td>\n",
       "      <td>Gold</td>\n",
       "      <td>Women's 53kg freestyle</td>\n",
       "      <td>Wrestling</td>\n",
       "    </tr>\n",
       "    <tr>\n",
       "      <th>33</th>\n",
       "      <td>34</td>\n",
       "      <td>6-Aug</td>\n",
       "      <td>Naveen</td>\n",
       "      <td>Gold</td>\n",
       "      <td>Men's 74kg freestyle</td>\n",
       "      <td>Wrestling</td>\n",
       "    </tr>\n",
       "    <tr>\n",
       "      <th>34</th>\n",
       "      <td>35</td>\n",
       "      <td>6-Aug</td>\n",
       "      <td>Pooja Sihag</td>\n",
       "      <td>Bronze</td>\n",
       "      <td>Women's 76kg freestyle</td>\n",
       "      <td>Wrestling</td>\n",
       "    </tr>\n",
       "    <tr>\n",
       "      <th>36</th>\n",
       "      <td>37</td>\n",
       "      <td>6-Aug</td>\n",
       "      <td>Deepak Nehra</td>\n",
       "      <td>Bronze</td>\n",
       "      <td>Men's 97kg freestyle</td>\n",
       "      <td>Wrestling</td>\n",
       "    </tr>\n",
       "  </tbody>\n",
       "</table>\n",
       "</div>"
      ],
      "text/plain": [
       "    Unnamed: 0 Date of Medal Won            Athlete   Medal  \\\n",
       "20          21             5-Aug        Anshu Malik  Silver   \n",
       "21          22             5-Aug      Bajrang Punia    Gold   \n",
       "22          23             5-Aug       Sakshi Malik    Gold   \n",
       "23          24             5-Aug       Deepak Punia    Gold   \n",
       "24          25             5-Aug       Divya Kakran  Bronze   \n",
       "25          26             5-Aug       Mohit Grewal  Bronze   \n",
       "30          31             6-Aug       Pooja Gehlot  Bronze   \n",
       "31          32             6-Aug  Ravi Kumar Dahiya    Gold   \n",
       "32          33             6-Aug      Vinesh Phogat    Gold   \n",
       "33          34             6-Aug             Naveen    Gold   \n",
       "34          35             6-Aug        Pooja Sihag  Bronze   \n",
       "36          37             6-Aug       Deepak Nehra  Bronze   \n",
       "\n",
       "                     Event      Sport  \n",
       "20  Women's 57kg freestyle  Wrestling  \n",
       "21    Men's 65kg freestyle  Wrestling  \n",
       "22  Women's 62kg freestyle  Wrestling  \n",
       "23    Men's 86kg freestyle  Wrestling  \n",
       "24  Women's 68kg freestyle  Wrestling  \n",
       "25   Men's 125kg freestyle  Wrestling  \n",
       "30  Women's 50kg freestyle  Wrestling  \n",
       "31    Men's 57kg freestyle  Wrestling  \n",
       "32  Women's 53kg freestyle  Wrestling  \n",
       "33    Men's 74kg freestyle  Wrestling  \n",
       "34  Women's 76kg freestyle  Wrestling  \n",
       "36    Men's 97kg freestyle  Wrestling  "
      ]
     },
     "execution_count": 181,
     "metadata": {},
     "output_type": "execute_result"
    }
   ],
   "source": [
    "gk.get_group('Wrestling')"
   ]
  },
  {
   "cell_type": "code",
   "execution_count": 180,
   "id": "44d53e49",
   "metadata": {},
   "outputs": [
    {
     "data": {
      "text/plain": [
       "Gold      6\n",
       "Bronze    5\n",
       "Silver    1\n",
       "Name: Medal, dtype: int64"
      ]
     },
     "execution_count": 180,
     "metadata": {},
     "output_type": "execute_result"
    }
   ],
   "source": [
    "gk.get_group('Wrestling')['Medal'].value_counts()"
   ]
  },
  {
   "cell_type": "code",
   "execution_count": 208,
   "id": "b7149d00",
   "metadata": {},
   "outputs": [
    {
     "data": {
      "text/plain": [
       "<AxesSubplot:>"
      ]
     },
     "execution_count": 208,
     "metadata": {},
     "output_type": "execute_result"
    },
    {
     "data": {
      "image/png": "[encoded data removed]",
      "text/plain": [
       "<Figure size 432x288 with 1 Axes>"
      ]
     },
     "metadata": {
      "needs_background": "light"
     },
     "output_type": "display_data"
    }
   ],
   "source": [
    "gk.get_group('Wrestling')['Medal'].value_counts().plot.bar(color='g')"
   ]
  },
  {
   "cell_type": "markdown",
   "id": "51c114d3",
   "metadata": {},
   "source": [
    "# Q13.Medals won in Weightlifting?"
   ]
  },
  {
   "cell_type": "code",
   "execution_count": 178,
   "id": "f85210ff",
   "metadata": {},
   "outputs": [
    {
     "data": {
      "text/html": [
       "<div>\n",
       "<style scoped>\n",
       "    .dataframe tbody tr th:only-of-type {\n",
       "        vertical-align: middle;\n",
       "    }\n",
       "\n",
       "    .dataframe tbody tr th {\n",
       "        vertical-align: top;\n",
       "    }\n",
       "\n",
       "    .dataframe thead th {\n",
       "        text-align: right;\n",
       "    }\n",
       "</style>\n",
       "<table border=\"1\" class=\"dataframe\">\n",
       "  <thead>\n",
       "    <tr style=\"text-align: right;\">\n",
       "      <th></th>\n",
       "      <th>Unnamed: 0</th>\n",
       "      <th>Date of Medal Won</th>\n",
       "      <th>Athlete</th>\n",
       "      <th>Medal</th>\n",
       "      <th>Event</th>\n",
       "      <th>Sport</th>\n",
       "    </tr>\n",
       "  </thead>\n",
       "  <tbody>\n",
       "    <tr>\n",
       "      <th>0</th>\n",
       "      <td>1</td>\n",
       "      <td>30-Jul</td>\n",
       "      <td>Sanket Sargar</td>\n",
       "      <td>Silver</td>\n",
       "      <td>Men's 55kg</td>\n",
       "      <td>Weightlifting</td>\n",
       "    </tr>\n",
       "    <tr>\n",
       "      <th>1</th>\n",
       "      <td>2</td>\n",
       "      <td>30-Jul</td>\n",
       "      <td>Gururaja Poojary</td>\n",
       "      <td>Bronze</td>\n",
       "      <td>Men's 61kg</td>\n",
       "      <td>Weightlifting</td>\n",
       "    </tr>\n",
       "    <tr>\n",
       "      <th>2</th>\n",
       "      <td>3</td>\n",
       "      <td>30-Jul</td>\n",
       "      <td>Mirabai Chanbu</td>\n",
       "      <td>Gold</td>\n",
       "      <td>Women's 49kg</td>\n",
       "      <td>Weightlifting</td>\n",
       "    </tr>\n",
       "    <tr>\n",
       "      <th>3</th>\n",
       "      <td>4</td>\n",
       "      <td>30-Jul</td>\n",
       "      <td>Bindyarani Devi</td>\n",
       "      <td>Silver</td>\n",
       "      <td>Women's 55kg</td>\n",
       "      <td>Weightlifting</td>\n",
       "    </tr>\n",
       "    <tr>\n",
       "      <th>4</th>\n",
       "      <td>5</td>\n",
       "      <td>31-Jul</td>\n",
       "      <td>Jeremy Lalrinnunga</td>\n",
       "      <td>Gold</td>\n",
       "      <td>Men's 67kg</td>\n",
       "      <td>Weightlifting</td>\n",
       "    </tr>\n",
       "    <tr>\n",
       "      <th>5</th>\n",
       "      <td>6</td>\n",
       "      <td>31-Jul</td>\n",
       "      <td>Achinta Sheuli</td>\n",
       "      <td>Gold</td>\n",
       "      <td>Men's 73kg</td>\n",
       "      <td>Weightlifting</td>\n",
       "    </tr>\n",
       "    <tr>\n",
       "      <th>8</th>\n",
       "      <td>9</td>\n",
       "      <td>1-Aug</td>\n",
       "      <td>Harjinder Kaur</td>\n",
       "      <td>Bronze</td>\n",
       "      <td>Women's 71kg</td>\n",
       "      <td>Weightlifting</td>\n",
       "    </tr>\n",
       "    <tr>\n",
       "      <th>10</th>\n",
       "      <td>11</td>\n",
       "      <td>2-Aug</td>\n",
       "      <td>Vikas Thakur</td>\n",
       "      <td>Silver</td>\n",
       "      <td>Men's 96kg</td>\n",
       "      <td>Weightlifting</td>\n",
       "    </tr>\n",
       "    <tr>\n",
       "      <th>13</th>\n",
       "      <td>14</td>\n",
       "      <td>3-Aug</td>\n",
       "      <td>Lovepreet Singh</td>\n",
       "      <td>Bronze</td>\n",
       "      <td>Men's 109kg</td>\n",
       "      <td>Weightlifting</td>\n",
       "    </tr>\n",
       "    <tr>\n",
       "      <th>16</th>\n",
       "      <td>17</td>\n",
       "      <td>3-Aug</td>\n",
       "      <td>Gurdeep Singh</td>\n",
       "      <td>Bronze</td>\n",
       "      <td>Men's +109kg</td>\n",
       "      <td>Weightlifting</td>\n",
       "    </tr>\n",
       "  </tbody>\n",
       "</table>\n",
       "</div>"
      ],
      "text/plain": [
       "    Unnamed: 0 Date of Medal Won             Athlete   Medal         Event  \\\n",
       "0            1            30-Jul       Sanket Sargar  Silver    Men's 55kg   \n",
       "1            2            30-Jul    Gururaja Poojary  Bronze    Men's 61kg   \n",
       "2            3            30-Jul      Mirabai Chanbu    Gold  Women's 49kg   \n",
       "3            4            30-Jul     Bindyarani Devi  Silver  Women's 55kg   \n",
       "4            5            31-Jul  Jeremy Lalrinnunga    Gold    Men's 67kg   \n",
       "5            6            31-Jul      Achinta Sheuli    Gold    Men's 73kg   \n",
       "8            9             1-Aug      Harjinder Kaur  Bronze  Women's 71kg   \n",
       "10          11             2-Aug        Vikas Thakur  Silver    Men's 96kg   \n",
       "13          14             3-Aug     Lovepreet Singh  Bronze   Men's 109kg   \n",
       "16          17             3-Aug       Gurdeep Singh  Bronze  Men's +109kg   \n",
       "\n",
       "            Sport  \n",
       "0   Weightlifting  \n",
       "1   Weightlifting  \n",
       "2   Weightlifting  \n",
       "3   Weightlifting  \n",
       "4   Weightlifting  \n",
       "5   Weightlifting  \n",
       "8   Weightlifting  \n",
       "10  Weightlifting  \n",
       "13  Weightlifting  \n",
       "16  Weightlifting  "
      ]
     },
     "execution_count": 178,
     "metadata": {},
     "output_type": "execute_result"
    }
   ],
   "source": [
    "gk.get_group('Weightlifting')"
   ]
  },
  {
   "cell_type": "code",
   "execution_count": 179,
   "id": "54212bf0",
   "metadata": {},
   "outputs": [
    {
     "data": {
      "text/plain": [
       "Bronze    4\n",
       "Silver    3\n",
       "Gold      3\n",
       "Name: Medal, dtype: int64"
      ]
     },
     "execution_count": 179,
     "metadata": {},
     "output_type": "execute_result"
    }
   ],
   "source": [
    "gk.get_group('Weightlifting')['Medal'].value_counts()"
   ]
  },
  {
   "cell_type": "code",
   "execution_count": 209,
   "id": "dc25a689",
   "metadata": {},
   "outputs": [
    {
     "data": {
      "text/plain": [
       "<AxesSubplot:>"
      ]
     },
     "execution_count": 209,
     "metadata": {},
     "output_type": "execute_result"
    },
    {
     "data": {
      "image/png": "[encoded data removed]",
      "text/plain": [
       "<Figure size 432x288 with 1 Axes>"
      ]
     },
     "metadata": {
      "needs_background": "light"
     },
     "output_type": "display_data"
    }
   ],
   "source": [
    "gk.get_group('Weightlifting')['Medal'].value_counts().plot.bar(color='r')"
   ]
  },
  {
   "cell_type": "markdown",
   "id": "6ab6ddbf",
   "metadata": {},
   "source": [
    "Over all medals in Common wealth Games shown in given graph "
   ]
  },
  {
   "cell_type": "code",
   "execution_count": 266,
   "id": "283b11a6",
   "metadata": {},
   "outputs": [
    {
     "data": {
      "text/plain": [
       "<AxesSubplot:xlabel='Sport,Medal'>"
      ]
     },
     "execution_count": 266,
     "metadata": {},
     "output_type": "execute_result"
    },
    {
     "data": {
      "image/png": "[encoded data removed]",
      "text/plain": [
       "<Figure size 432x288 with 1 Axes>"
      ]
     },
     "metadata": {
      "needs_background": "light"
     },
     "output_type": "display_data"
    }
   ],
   "source": [
    "CWG[['Sport','Medal']].value_counts().plot.bar(color='y')"
   ]
  },
  {
   "cell_type": "code",
   "execution_count": 267,
   "id": "49d7ce1d",
   "metadata": {},
   "outputs": [
    {
     "data": {
      "text/plain": [
       "<bound method DataFrame.count of             Sport   Medal\n",
       "0   Weightlifting  Silver\n",
       "1   Weightlifting  Bronze\n",
       "2   Weightlifting    Gold\n",
       "3   Weightlifting  Silver\n",
       "4   Weightlifting    Gold\n",
       "..            ...     ...\n",
       "56      Badminton    Gold\n",
       "57   Table Tennis  Bronze\n",
       "58      Badminton    Gold\n",
       "59   Table Tennis    Gold\n",
       "60         Hockey  Silver\n",
       "\n",
       "[61 rows x 2 columns]>"
      ]
     },
     "execution_count": 267,
     "metadata": {},
     "output_type": "execute_result"
    }
   ],
   "source": [
    "CWG[['Sport','Medal']].count"
   ]
  }
 ],
 "metadata": {
  "kernelspec": {
   "display_name": "Python 3 (ipykernel)",
   "language": "python",
   "name": "python3"
  },
  "language_info": {
   "codemirror_mode": {
    "name": "ipython",
    "version": 3
   },
   "file_extension": ".py",
   "mimetype": "text/x-python",
   "name": "python",
   "nbconvert_exporter": "python",
   "pygments_lexer": "ipython3",
   "version": "3.9.7"
  }
 },
 "nbformat": 4,
 "nbformat_minor": 5
}
